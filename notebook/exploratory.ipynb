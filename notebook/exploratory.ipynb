{
 "cells": [
  {
   "cell_type": "markdown",
   "id": "7bc921d6-64b0-4d33-82db-68f8c4e63f2a",
   "metadata": {},
   "source": [
    "# Exploration des données"
   ]
  },
  {
   "cell_type": "code",
   "execution_count": 1,
   "id": "0d59da41-4d45-4b5c-8f99-179637318001",
   "metadata": {},
   "outputs": [],
   "source": [
    "import os\n",
    "import json5\n",
    "import pandas as pd"
   ]
  },
  {
   "cell_type": "code",
   "execution_count": 2,
   "id": "6ea5bd82-17cd-48b4-bcdc-48d1ed115fb9",
   "metadata": {},
   "outputs": [],
   "source": [
    "path_data = '..\\data'"
   ]
  },
  {
   "cell_type": "markdown",
   "id": "3c14dca6-adab-4fcf-9797-a996d7b07b0e",
   "metadata": {},
   "source": [
    "## Drugs"
   ]
  },
  {
   "cell_type": "code",
   "execution_count": 5,
   "id": "176cdd41-d3e7-4cc4-9c9a-6ebccc07036b",
   "metadata": {},
   "outputs": [],
   "source": [
    "drugs = pd.read_csv(os.path.join(path_data, 'drugs.csv'))"
   ]
  },
  {
   "cell_type": "code",
   "execution_count": 16,
   "id": "acbe2309-274d-476c-b0ab-fcdeabeebcfb",
   "metadata": {
    "tags": []
   },
   "outputs": [
    {
     "data": {
      "text/plain": [
       "[{'atccode': 'A04AD', 'drug': 'DIPHENHYDRAMINE'},\n",
       " {'atccode': 'S03AA', 'drug': 'TETRACYCLINE'},\n",
       " {'atccode': 'V03AB', 'drug': 'ETHANOL'},\n",
       " {'atccode': 'A03BA', 'drug': 'ATROPINE'},\n",
       " {'atccode': 'A01AD', 'drug': 'EPINEPHRINE'},\n",
       " {'atccode': '6302001', 'drug': 'ISOPRENALINE'},\n",
       " {'atccode': 'R01AD', 'drug': 'BETAMETHASONE'}]"
      ]
     },
     "execution_count": 16,
     "metadata": {},
     "output_type": "execute_result"
    }
   ],
   "source": [
    "drugs.to_dict(orient=\"records\")"
   ]
  },
  {
   "cell_type": "markdown",
   "id": "5a28c4d0-80b9-42b5-a393-7faa2887de88",
   "metadata": {},
   "source": [
    "## Clinical Trials"
   ]
  },
  {
   "cell_type": "code",
   "execution_count": 3,
   "id": "e0d09412-c9b0-44d9-935d-3380b4c6b079",
   "metadata": {},
   "outputs": [],
   "source": [
    "clinical_trials = pd.read_csv(os.path.join(path_data, 'clinical_trials.csv'))"
   ]
  },
  {
   "cell_type": "code",
   "execution_count": 4,
   "id": "433c58cc-0883-4003-9eaa-bd97b138a332",
   "metadata": {},
   "outputs": [
    {
     "data": {
      "text/html": [
       "<div>\n",
       "<style scoped>\n",
       "    .dataframe tbody tr th:only-of-type {\n",
       "        vertical-align: middle;\n",
       "    }\n",
       "\n",
       "    .dataframe tbody tr th {\n",
       "        vertical-align: top;\n",
       "    }\n",
       "\n",
       "    .dataframe thead th {\n",
       "        text-align: right;\n",
       "    }\n",
       "</style>\n",
       "<table border=\"1\" class=\"dataframe\">\n",
       "  <thead>\n",
       "    <tr style=\"text-align: right;\">\n",
       "      <th></th>\n",
       "      <th>id</th>\n",
       "      <th>scientific_title</th>\n",
       "      <th>date</th>\n",
       "      <th>journal</th>\n",
       "    </tr>\n",
       "  </thead>\n",
       "  <tbody>\n",
       "    <tr>\n",
       "      <th>0</th>\n",
       "      <td>NCT01967433</td>\n",
       "      <td>Use of Diphenhydramine as an Adjunctive Sedati...</td>\n",
       "      <td>1 January 2020</td>\n",
       "      <td>Journal of emergency nursing</td>\n",
       "    </tr>\n",
       "    <tr>\n",
       "      <th>1</th>\n",
       "      <td>NCT04189588</td>\n",
       "      <td>Phase 2 Study IV QUZYTTIR™ (Cetirizine Hydroch...</td>\n",
       "      <td>1 January 2020</td>\n",
       "      <td>Journal of emergency nursing</td>\n",
       "    </tr>\n",
       "    <tr>\n",
       "      <th>2</th>\n",
       "      <td>NCT04237090</td>\n",
       "      <td></td>\n",
       "      <td>1 January 2020</td>\n",
       "      <td>Journal of emergency nursing</td>\n",
       "    </tr>\n",
       "    <tr>\n",
       "      <th>3</th>\n",
       "      <td>NCT04237091</td>\n",
       "      <td>Feasibility of a Randomized Controlled Clinica...</td>\n",
       "      <td>1 January 2020</td>\n",
       "      <td>Journal of emergency nursing</td>\n",
       "    </tr>\n",
       "    <tr>\n",
       "      <th>4</th>\n",
       "      <td>NCT04153396</td>\n",
       "      <td>Preemptive Infiltration With Betamethasone and...</td>\n",
       "      <td>1 January 2020</td>\n",
       "      <td>Hôpitaux Universitaires de Genève</td>\n",
       "    </tr>\n",
       "    <tr>\n",
       "      <th>5</th>\n",
       "      <td>NCT03490942</td>\n",
       "      <td>Glucagon Infusion in T1D Patients With Recurre...</td>\n",
       "      <td>25/05/2020</td>\n",
       "      <td>NaN</td>\n",
       "    </tr>\n",
       "    <tr>\n",
       "      <th>6</th>\n",
       "      <td>NaN</td>\n",
       "      <td>Glucagon Infusion in T1D Patients With Recurre...</td>\n",
       "      <td>25/05/2020</td>\n",
       "      <td>Journal of emergency nursing</td>\n",
       "    </tr>\n",
       "    <tr>\n",
       "      <th>7</th>\n",
       "      <td>NCT04188184</td>\n",
       "      <td>Tranexamic Acid Versus Epinephrine During Expl...</td>\n",
       "      <td>27 April 2020</td>\n",
       "      <td>Journal of emergency nursing\\xc3\\x28</td>\n",
       "    </tr>\n",
       "  </tbody>\n",
       "</table>\n",
       "</div>"
      ],
      "text/plain": [
       "            id                                   scientific_title  \\\n",
       "0  NCT01967433  Use of Diphenhydramine as an Adjunctive Sedati...   \n",
       "1  NCT04189588  Phase 2 Study IV QUZYTTIR™ (Cetirizine Hydroch...   \n",
       "2  NCT04237090                                                      \n",
       "3  NCT04237091  Feasibility of a Randomized Controlled Clinica...   \n",
       "4  NCT04153396  Preemptive Infiltration With Betamethasone and...   \n",
       "5  NCT03490942  Glucagon Infusion in T1D Patients With Recurre...   \n",
       "6          NaN  Glucagon Infusion in T1D Patients With Recurre...   \n",
       "7  NCT04188184  Tranexamic Acid Versus Epinephrine During Expl...   \n",
       "\n",
       "             date                               journal  \n",
       "0  1 January 2020          Journal of emergency nursing  \n",
       "1  1 January 2020          Journal of emergency nursing  \n",
       "2  1 January 2020          Journal of emergency nursing  \n",
       "3  1 January 2020          Journal of emergency nursing  \n",
       "4  1 January 2020     Hôpitaux Universitaires de Genève  \n",
       "5      25/05/2020                                   NaN  \n",
       "6      25/05/2020          Journal of emergency nursing  \n",
       "7   27 April 2020  Journal of emergency nursing\\xc3\\x28  "
      ]
     },
     "execution_count": 4,
     "metadata": {},
     "output_type": "execute_result"
    }
   ],
   "source": [
    "clinical_trials"
   ]
  },
  {
   "cell_type": "markdown",
   "id": "49a6ad2c-9993-4ba3-b527-f9415df7ecb2",
   "metadata": {},
   "source": [
    "## PubMed CSV"
   ]
  },
  {
   "cell_type": "code",
   "execution_count": 18,
   "id": "0ec6c4e2-01f7-486f-a815-3eaf9f65c786",
   "metadata": {},
   "outputs": [],
   "source": [
    "pubmed_csv = pd.read_csv(os.path.join(path_data, 'pubmed.csv'))"
   ]
  },
  {
   "cell_type": "code",
   "execution_count": 19,
   "id": "b3a1ef4d-6998-46a1-9af2-45d85abe886b",
   "metadata": {},
   "outputs": [
    {
     "data": {
      "text/html": [
       "<div>\n",
       "<style scoped>\n",
       "    .dataframe tbody tr th:only-of-type {\n",
       "        vertical-align: middle;\n",
       "    }\n",
       "\n",
       "    .dataframe tbody tr th {\n",
       "        vertical-align: top;\n",
       "    }\n",
       "\n",
       "    .dataframe thead th {\n",
       "        text-align: right;\n",
       "    }\n",
       "</style>\n",
       "<table border=\"1\" class=\"dataframe\">\n",
       "  <thead>\n",
       "    <tr style=\"text-align: right;\">\n",
       "      <th></th>\n",
       "      <th>id</th>\n",
       "      <th>title</th>\n",
       "      <th>date</th>\n",
       "      <th>journal</th>\n",
       "    </tr>\n",
       "  </thead>\n",
       "  <tbody>\n",
       "    <tr>\n",
       "      <th>0</th>\n",
       "      <td>1</td>\n",
       "      <td>A 44-year-old man with erythema of the face di...</td>\n",
       "      <td>01/01/2019</td>\n",
       "      <td>Journal of emergency nursing</td>\n",
       "    </tr>\n",
       "    <tr>\n",
       "      <th>1</th>\n",
       "      <td>2</td>\n",
       "      <td>An evaluation of benadryl, pyribenzamine, and ...</td>\n",
       "      <td>01/01/2019</td>\n",
       "      <td>Journal of emergency nursing</td>\n",
       "    </tr>\n",
       "    <tr>\n",
       "      <th>2</th>\n",
       "      <td>3</td>\n",
       "      <td>Diphenhydramine hydrochloride helps symptoms o...</td>\n",
       "      <td>02/01/2019</td>\n",
       "      <td>The Journal of pediatrics</td>\n",
       "    </tr>\n",
       "    <tr>\n",
       "      <th>3</th>\n",
       "      <td>4</td>\n",
       "      <td>Tetracycline Resistance Patterns of Lactobacil...</td>\n",
       "      <td>01/01/2020</td>\n",
       "      <td>Journal of food protection</td>\n",
       "    </tr>\n",
       "    <tr>\n",
       "      <th>4</th>\n",
       "      <td>5</td>\n",
       "      <td>Appositional Tetracycline bone formation rates...</td>\n",
       "      <td>02/01/2020</td>\n",
       "      <td>American journal of veterinary research</td>\n",
       "    </tr>\n",
       "    <tr>\n",
       "      <th>5</th>\n",
       "      <td>6</td>\n",
       "      <td>Rapid reacquisition of contextual fear followi...</td>\n",
       "      <td>2020-01-01</td>\n",
       "      <td>Psychopharmacology</td>\n",
       "    </tr>\n",
       "    <tr>\n",
       "      <th>6</th>\n",
       "      <td>7</td>\n",
       "      <td>The High Cost of Epinephrine Autoinjectors and...</td>\n",
       "      <td>01/02/2020</td>\n",
       "      <td>The journal of allergy and clinical immunology...</td>\n",
       "    </tr>\n",
       "    <tr>\n",
       "      <th>7</th>\n",
       "      <td>8</td>\n",
       "      <td>Time to epinephrine treatment is associated wi...</td>\n",
       "      <td>01/03/2020</td>\n",
       "      <td>The journal of allergy and clinical immunology...</td>\n",
       "    </tr>\n",
       "  </tbody>\n",
       "</table>\n",
       "</div>"
      ],
      "text/plain": [
       "   id                                              title        date  \\\n",
       "0   1  A 44-year-old man with erythema of the face di...  01/01/2019   \n",
       "1   2  An evaluation of benadryl, pyribenzamine, and ...  01/01/2019   \n",
       "2   3  Diphenhydramine hydrochloride helps symptoms o...  02/01/2019   \n",
       "3   4  Tetracycline Resistance Patterns of Lactobacil...  01/01/2020   \n",
       "4   5  Appositional Tetracycline bone formation rates...  02/01/2020   \n",
       "5   6  Rapid reacquisition of contextual fear followi...  2020-01-01   \n",
       "6   7  The High Cost of Epinephrine Autoinjectors and...  01/02/2020   \n",
       "7   8  Time to epinephrine treatment is associated wi...  01/03/2020   \n",
       "\n",
       "                                             journal  \n",
       "0                       Journal of emergency nursing  \n",
       "1                       Journal of emergency nursing  \n",
       "2                          The Journal of pediatrics  \n",
       "3                         Journal of food protection  \n",
       "4            American journal of veterinary research  \n",
       "5                                 Psychopharmacology  \n",
       "6  The journal of allergy and clinical immunology...  \n",
       "7  The journal of allergy and clinical immunology...  "
      ]
     },
     "execution_count": 19,
     "metadata": {},
     "output_type": "execute_result"
    }
   ],
   "source": [
    "pubmed_csv"
   ]
  },
  {
   "cell_type": "code",
   "execution_count": 22,
   "id": "0e384976-8acd-4136-869d-3ef02b2400c6",
   "metadata": {},
   "outputs": [
    {
     "data": {
      "text/plain": [
       "0   2019-01-01\n",
       "1   2019-01-01\n",
       "2   2019-02-01\n",
       "3   2020-01-01\n",
       "4   2020-02-01\n",
       "5   2020-01-01\n",
       "6   2020-01-02\n",
       "7   2020-01-03\n",
       "Name: date, dtype: datetime64[ns]"
      ]
     },
     "execution_count": 22,
     "metadata": {},
     "output_type": "execute_result"
    }
   ],
   "source": [
    "pd.to_datetime(pubmed_csv['date'])"
   ]
  },
  {
   "cell_type": "code",
   "execution_count": 14,
   "id": "c82c1aa5-82ef-476f-a371-e7b0311e0fa5",
   "metadata": {},
   "outputs": [
    {
     "data": {
      "text/plain": [
       "id          int64\n",
       "title      object\n",
       "date       object\n",
       "journal    object\n",
       "dtype: object"
      ]
     },
     "execution_count": 14,
     "metadata": {},
     "output_type": "execute_result"
    }
   ],
   "source": [
    "pubmed_csv.dtypes"
   ]
  },
  {
   "cell_type": "code",
   "execution_count": 17,
   "id": "09c1285e-666c-4be7-ae23-c74f2f6549c3",
   "metadata": {},
   "outputs": [
    {
     "data": {
      "text/plain": [
       "array(['Journal of emergency nursing', 'Journal of emergency nursing',\n",
       "       'The Journal of pediatrics', 'Journal of food protection',\n",
       "       'American journal of veterinary research', 'Psychopharmacology',\n",
       "       'The journal of allergy and clinical immunology. In practice',\n",
       "       'The journal of allergy and clinical immunology. In practice'],\n",
       "      dtype=object)"
      ]
     },
     "execution_count": 17,
     "metadata": {},
     "output_type": "execute_result"
    }
   ],
   "source": [
    "pubmed_csv.journal.values"
   ]
  },
  {
   "cell_type": "markdown",
   "id": "b9f89195-7f6c-4a99-b665-8848ca0eab5b",
   "metadata": {},
   "source": [
    "## PubMed JSON\n",
    "\n",
    "Problème sur le fichier json - cause: \"trailing comma\"\n",
    "Mauvaise spécification du fichier JSON  conforméméent à la RFC-7159."
   ]
  },
  {
   "cell_type": "code",
   "execution_count": 9,
   "id": "17b4e7c0-9a09-4fe6-b164-76a297eeda14",
   "metadata": {},
   "outputs": [],
   "source": [
    "with open(os.path.join(path_data, 'pubmed.json')) as f:\n",
    "    data = json5.load(f)\n",
    "    pubmed_json = pd.DataFrame(data)"
   ]
  },
  {
   "cell_type": "code",
   "execution_count": 10,
   "id": "968fefed-251c-4382-9acc-dc4673eae6b5",
   "metadata": {},
   "outputs": [
    {
     "data": {
      "text/html": [
       "<div>\n",
       "<style scoped>\n",
       "    .dataframe tbody tr th:only-of-type {\n",
       "        vertical-align: middle;\n",
       "    }\n",
       "\n",
       "    .dataframe tbody tr th {\n",
       "        vertical-align: top;\n",
       "    }\n",
       "\n",
       "    .dataframe thead th {\n",
       "        text-align: right;\n",
       "    }\n",
       "</style>\n",
       "<table border=\"1\" class=\"dataframe\">\n",
       "  <thead>\n",
       "    <tr style=\"text-align: right;\">\n",
       "      <th></th>\n",
       "      <th>id</th>\n",
       "      <th>title</th>\n",
       "      <th>date</th>\n",
       "      <th>journal</th>\n",
       "    </tr>\n",
       "  </thead>\n",
       "  <tbody>\n",
       "    <tr>\n",
       "      <th>0</th>\n",
       "      <td>9</td>\n",
       "      <td>Gold nanoparticles synthesized from Euphorbia ...</td>\n",
       "      <td>01/01/2020</td>\n",
       "      <td>Journal of photochemistry and photobiology. B,...</td>\n",
       "    </tr>\n",
       "    <tr>\n",
       "      <th>1</th>\n",
       "      <td>10</td>\n",
       "      <td>Clinical implications of umbilical artery Dopp...</td>\n",
       "      <td>01/01/2020</td>\n",
       "      <td>The journal of maternal-fetal &amp; neonatal medicine</td>\n",
       "    </tr>\n",
       "    <tr>\n",
       "      <th>2</th>\n",
       "      <td>11</td>\n",
       "      <td>Effects of Topical Application of Betamethason...</td>\n",
       "      <td>01/01/2020</td>\n",
       "      <td>Journal of back and musculoskeletal rehabilita...</td>\n",
       "    </tr>\n",
       "    <tr>\n",
       "      <th>3</th>\n",
       "      <td>12</td>\n",
       "      <td>Comparison of pressure release, phonophoresis ...</td>\n",
       "      <td>01/03/2020</td>\n",
       "      <td>Journal of back and musculoskeletal rehabilita...</td>\n",
       "    </tr>\n",
       "    <tr>\n",
       "      <th>4</th>\n",
       "      <td></td>\n",
       "      <td>Comparison of pressure BETAMETHASONE release, ...</td>\n",
       "      <td>01/03/2020</td>\n",
       "      <td>The journal of maternal-fetal &amp; neonatal medicine</td>\n",
       "    </tr>\n",
       "  </tbody>\n",
       "</table>\n",
       "</div>"
      ],
      "text/plain": [
       "   id                                              title        date  \\\n",
       "0   9  Gold nanoparticles synthesized from Euphorbia ...  01/01/2020   \n",
       "1  10  Clinical implications of umbilical artery Dopp...  01/01/2020   \n",
       "2  11  Effects of Topical Application of Betamethason...  01/01/2020   \n",
       "3  12  Comparison of pressure release, phonophoresis ...  01/03/2020   \n",
       "4      Comparison of pressure BETAMETHASONE release, ...  01/03/2020   \n",
       "\n",
       "                                             journal  \n",
       "0  Journal of photochemistry and photobiology. B,...  \n",
       "1  The journal of maternal-fetal & neonatal medicine  \n",
       "2  Journal of back and musculoskeletal rehabilita...  \n",
       "3  Journal of back and musculoskeletal rehabilita...  \n",
       "4  The journal of maternal-fetal & neonatal medicine  "
      ]
     },
     "execution_count": 10,
     "metadata": {},
     "output_type": "execute_result"
    }
   ],
   "source": [
    "pubmed_json"
   ]
  },
  {
   "cell_type": "code",
   "execution_count": 15,
   "id": "3d2eb88c-572b-4438-93d2-2783522e13e8",
   "metadata": {},
   "outputs": [
    {
     "data": {
      "text/plain": [
       "id         object\n",
       "title      object\n",
       "date       object\n",
       "journal    object\n",
       "dtype: object"
      ]
     },
     "execution_count": 15,
     "metadata": {},
     "output_type": "execute_result"
    }
   ],
   "source": [
    "pubmed_json.dtypes"
   ]
  },
  {
   "cell_type": "code",
   "execution_count": 16,
   "id": "ec73a419-6f2f-4b9c-948f-1f0e176df769",
   "metadata": {},
   "outputs": [
    {
     "data": {
      "text/plain": [
       "array(['Journal of photochemistry and photobiology. B, Biology',\n",
       "       'The journal of maternal-fetal & neonatal medicine',\n",
       "       'Journal of back and musculoskeletal rehabilitation',\n",
       "       'Journal of back and musculoskeletal rehabilitation',\n",
       "       'The journal of maternal-fetal & neonatal medicine'], dtype=object)"
      ]
     },
     "execution_count": 16,
     "metadata": {},
     "output_type": "execute_result"
    }
   ],
   "source": [
    "pubmed_json.journal.values"
   ]
  },
  {
   "cell_type": "code",
   "execution_count": null,
   "id": "48e267f7-d0a6-4a43-9cff-b9c31f30b2bd",
   "metadata": {},
   "outputs": [],
   "source": []
  }
 ],
 "metadata": {
  "kernelspec": {
   "display_name": "Python 3 (ipykernel)",
   "language": "python",
   "name": "python3"
  },
  "language_info": {
   "codemirror_mode": {
    "name": "ipython",
    "version": 3
   },
   "file_extension": ".py",
   "mimetype": "text/x-python",
   "name": "python",
   "nbconvert_exporter": "python",
   "pygments_lexer": "ipython3",
   "version": "3.7.13"
  }
 },
 "nbformat": 4,
 "nbformat_minor": 5
}
