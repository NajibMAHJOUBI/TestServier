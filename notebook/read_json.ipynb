{
 "cells": [
  {
   "cell_type": "code",
   "execution_count": 2,
   "id": "418bf985-0522-4520-adc5-8f1bfc3ae7f2",
   "metadata": {},
   "outputs": [],
   "source": [
    "import json\n",
    "import pandas as pd"
   ]
  },
  {
   "cell_type": "markdown",
   "id": "e4db3492-3c6f-4868-b019-db6caf2cb49e",
   "metadata": {},
   "source": [
    "## Library JSON"
   ]
  },
  {
   "cell_type": "code",
   "execution_count": 2,
   "id": "81f7b7a2-dd43-4540-b32b-e4d610b16d91",
   "metadata": {},
   "outputs": [],
   "source": [
    "with open('data.json', 'r') as f:\n",
    "    data = json.load(f)"
   ]
  },
  {
   "cell_type": "code",
   "execution_count": 3,
   "id": "34a48d77-439d-4a4a-abcd-50ef55cb5475",
   "metadata": {},
   "outputs": [
    {
     "data": {
      "text/plain": [
       "[{'_id': 1,\n",
       "  'Medicament': 'betamethasone',\n",
       "  'Citation': [{'Journal': 'journal1',\n",
       "    'Publication': [{'Date': '2022-02-01', 'Title': 'Titre1'},\n",
       "     {'Date': '2022-02-02', 'Title': 'Titre2'}]},\n",
       "   {'Journal': 'journal2'},\n",
       "   {'Journal': 'journal3'}]},\n",
       " {'_id': 2,\n",
       "  'Medicament': 'diphenhydramine',\n",
       "  'Citation': [{'Journal': 'journal1',\n",
       "    'Publication': [{'Date': '2022-02-01', 'Title': 'Titre1'},\n",
       "     {'Date': '2022-02-02', 'Title': 'Titre2'}]}]}]"
      ]
     },
     "execution_count": 3,
     "metadata": {},
     "output_type": "execute_result"
    }
   ],
   "source": [
    "data"
   ]
  },
  {
   "cell_type": "markdown",
   "id": "c348710e-53e9-4386-9331-7de8e09c6e27",
   "metadata": {},
   "source": [
    "## Library PANDAS"
   ]
  },
  {
   "cell_type": "code",
   "execution_count": 4,
   "id": "0c453f14-9786-458f-93c3-cbac16c1e200",
   "metadata": {},
   "outputs": [],
   "source": [
    "df = pd.read_json('data.json')"
   ]
  },
  {
   "cell_type": "code",
   "execution_count": 7,
   "id": "2044cb9c-cbfc-497d-82b7-6c26f03dbab5",
   "metadata": {},
   "outputs": [],
   "source": [
    "df[\"Journal\"] = df[\"Citation\"].map(lambda citation: [item['Journal'] for item in citation])"
   ]
  },
  {
   "cell_type": "code",
   "execution_count": 8,
   "id": "fae5bd00-6170-4f6d-813f-0f8425883430",
   "metadata": {},
   "outputs": [
    {
     "data": {
      "text/html": [
       "<div>\n",
       "<style scoped>\n",
       "    .dataframe tbody tr th:only-of-type {\n",
       "        vertical-align: middle;\n",
       "    }\n",
       "\n",
       "    .dataframe tbody tr th {\n",
       "        vertical-align: top;\n",
       "    }\n",
       "\n",
       "    .dataframe thead th {\n",
       "        text-align: right;\n",
       "    }\n",
       "</style>\n",
       "<table border=\"1\" class=\"dataframe\">\n",
       "  <thead>\n",
       "    <tr style=\"text-align: right;\">\n",
       "      <th></th>\n",
       "      <th>_id</th>\n",
       "      <th>Medicament</th>\n",
       "      <th>Citation</th>\n",
       "      <th>Journal</th>\n",
       "    </tr>\n",
       "  </thead>\n",
       "  <tbody>\n",
       "    <tr>\n",
       "      <th>0</th>\n",
       "      <td>1</td>\n",
       "      <td>betamethasone</td>\n",
       "      <td>[{'Journal': 'journal1', 'Publication': [{'Dat...</td>\n",
       "      <td>[journal1, journal2, journal3]</td>\n",
       "    </tr>\n",
       "    <tr>\n",
       "      <th>1</th>\n",
       "      <td>2</td>\n",
       "      <td>diphenhydramine</td>\n",
       "      <td>[{'Journal': 'journal1', 'Publication': [{'Dat...</td>\n",
       "      <td>[journal1]</td>\n",
       "    </tr>\n",
       "  </tbody>\n",
       "</table>\n",
       "</div>"
      ],
      "text/plain": [
       "   _id       Medicament                                           Citation  \\\n",
       "0    1    betamethasone  [{'Journal': 'journal1', 'Publication': [{'Dat...   \n",
       "1    2  diphenhydramine  [{'Journal': 'journal1', 'Publication': [{'Dat...   \n",
       "\n",
       "                          Journal  \n",
       "0  [journal1, journal2, journal3]  \n",
       "1                      [journal1]  "
      ]
     },
     "execution_count": 8,
     "metadata": {},
     "output_type": "execute_result"
    }
   ],
   "source": []
  },
  {
   "cell_type": "code",
   "execution_count": 10,
   "id": "516e2f2b-daa7-4f1e-b9df-46a97f0f5e2f",
   "metadata": {},
   "outputs": [
    {
     "data": {
      "text/plain": [
       "['journal1', 'journal2', 'journal3', 'journal1']"
      ]
     },
     "execution_count": 10,
     "metadata": {},
     "output_type": "execute_result"
    }
   ],
   "source": [
    "# import functools module\n",
    "import functools\n",
    "\n",
    "# using reduce operation to apply function on the series\n",
    "product = functools.reduce(lambda x,y : x+y, df[\"Journal\"])\n"
   ]
  },
  {
   "cell_type": "code",
   "execution_count": 11,
   "id": "72957b27-1fc3-48a4-ae79-572dca7cf06e",
   "metadata": {},
   "outputs": [
    {
     "data": {
      "text/plain": [
       "journal1    2\n",
       "journal2    1\n",
       "journal3    1\n",
       "dtype: int64"
      ]
     },
     "execution_count": 11,
     "metadata": {},
     "output_type": "execute_result"
    }
   ],
   "source": [
    "counts = pd.Series(product).value_counts()\n",
    "counts"
   ]
  },
  {
   "cell_type": "code",
   "execution_count": 64,
   "id": "2387fb18-cd85-4935-b3b7-99dd2c83fdc1",
   "metadata": {},
   "outputs": [
    {
     "ename": "NameError",
     "evalue": "name 'counts' is not defined",
     "output_type": "error",
     "traceback": [
      "\u001b[0;31m---------------------------------------------------------------------------\u001b[0m",
      "\u001b[0;31mNameError\u001b[0m                                 Traceback (most recent call last)",
      "Input \u001b[0;32mIn [64]\u001b[0m, in \u001b[0;36m<cell line: 1>\u001b[0;34m()\u001b[0m\n\u001b[0;32m----> 1\u001b[0m \u001b[43mcounts\u001b[49m\n",
      "\u001b[0;31mNameError\u001b[0m: name 'counts' is not defined"
     ]
    }
   ],
   "source": [
    "counts"
   ]
  },
  {
   "cell_type": "code",
   "execution_count": 12,
   "id": "fc0c2427-cd40-48cd-9f27-da59593dcb92",
   "metadata": {},
   "outputs": [],
   "source": []
  },
  {
   "cell_type": "code",
   "execution_count": 14,
   "id": "fce74752-c002-493e-9bf7-d1703fe245a0",
   "metadata": {},
   "outputs": [],
   "source": [
    "df.to_json('records.json', orient='records', indent=4) "
   ]
  },
  {
   "cell_type": "code",
   "execution_count": null,
   "id": "85be0bea-1015-4945-8633-e95237db4098",
   "metadata": {},
   "outputs": [],
   "source": [
    "‘index’ "
   ]
  },
  {
   "cell_type": "code",
   "execution_count": null,
   "id": "8129f801-8093-4f84-ba33-39e735c646e6",
   "metadata": {},
   "outputs": [],
   "source": [
    "‘columns’ "
   ]
  },
  {
   "cell_type": "code",
   "execution_count": null,
   "id": "e32d5201-f2b4-45a2-a280-d43eda4b4bed",
   "metadata": {},
   "outputs": [],
   "source": [
    "‘values’ "
   ]
  },
  {
   "cell_type": "code",
   "execution_count": null,
   "id": "7de1db51-d7cf-422a-a36f-ea81b1a0e3a0",
   "metadata": {},
   "outputs": [],
   "source": [
    "‘table’ "
   ]
  },
  {
   "cell_type": "markdown",
   "id": "eda83516-e2b5-4b10-a1d9-cd5086757888",
   "metadata": {
    "tags": []
   },
   "source": [
    "## test sur drugs_mapping.json"
   ]
  },
  {
   "cell_type": "code",
   "execution_count": 65,
   "id": "c220c406-4b8b-48ce-9f28-0536264b7acf",
   "metadata": {},
   "outputs": [],
   "source": [
    "drugs_mapping = pd.read_csv('/home/data-ops/Documents/Github/TestServier/work/transform_drugs.csv', dtype=str, usecols=['title', 'date', 'journal', 'drug'])"
   ]
  },
  {
   "cell_type": "code",
   "execution_count": 66,
   "id": "d1e57cce-6d3e-4379-a260-292c9aac28ba",
   "metadata": {},
   "outputs": [],
   "source": [
    "drugs_mapping['publication'] = drugs_mapping.apply(lambda row: {'Date': row['date'], 'Titre': row['title']}, axis=1)"
   ]
  },
  {
   "cell_type": "code",
   "execution_count": 67,
   "id": "32d32b24-fcb4-4df3-8b9e-4992264c78f7",
   "metadata": {},
   "outputs": [],
   "source": [
    "drugs_mapping.drop(columns=['title', 'date'], inplace=True)"
   ]
  },
  {
   "cell_type": "code",
   "execution_count": 68,
   "id": "186cc3fa-64f6-4741-b389-aef0464c0b7b",
   "metadata": {
    "tags": []
   },
   "outputs": [],
   "source": [
    "drugs_mapping = drugs_mapping.groupby(['drug', 'journal']).agg(list).reset_index()"
   ]
  },
  {
   "cell_type": "code",
   "execution_count": 69,
   "id": "9ac7886f-797d-4828-afcd-685b9ea6135c",
   "metadata": {},
   "outputs": [],
   "source": [
    "drugs_mapping['Citation'] = drugs_mapping.apply(lambda row: {'Journal': row['journal'], 'Publication': row['publication']}, axis=1)"
   ]
  },
  {
   "cell_type": "code",
   "execution_count": 70,
   "id": "9bf2f4b1-0002-4350-bcef-a90f46454fc3",
   "metadata": {},
   "outputs": [],
   "source": [
    "drugs_mapping.drop(columns=['journal', 'publication'], inplace=True)"
   ]
  },
  {
   "cell_type": "code",
   "execution_count": 71,
   "id": "556e3b67-b091-4c35-b9ed-de0fab431ad8",
   "metadata": {},
   "outputs": [],
   "source": [
    "drugs_mapping.rename(columns={'drug': 'Medicament'}, inplace=True)"
   ]
  },
  {
   "cell_type": "code",
   "execution_count": 75,
   "id": "0ae4b3cc-7e76-46d0-894a-87cd22846d3d",
   "metadata": {},
   "outputs": [
    {
     "data": {
      "text/html": [
       "<div>\n",
       "<style scoped>\n",
       "    .dataframe tbody tr th:only-of-type {\n",
       "        vertical-align: middle;\n",
       "    }\n",
       "\n",
       "    .dataframe tbody tr th {\n",
       "        vertical-align: top;\n",
       "    }\n",
       "\n",
       "    .dataframe thead th {\n",
       "        text-align: right;\n",
       "    }\n",
       "</style>\n",
       "<table border=\"1\" class=\"dataframe\">\n",
       "  <thead>\n",
       "    <tr style=\"text-align: right;\">\n",
       "      <th></th>\n",
       "      <th>Medicament</th>\n",
       "      <th>Citation</th>\n",
       "    </tr>\n",
       "  </thead>\n",
       "  <tbody>\n",
       "    <tr>\n",
       "      <th>0</th>\n",
       "      <td>atropine</td>\n",
       "      <td>[{'Journal': 'The journal of maternal-fetal &amp; ...</td>\n",
       "    </tr>\n",
       "    <tr>\n",
       "      <th>1</th>\n",
       "      <td>betamethasone</td>\n",
       "      <td>[{'Journal': 'Hôpitaux Universitaires de Genèv...</td>\n",
       "    </tr>\n",
       "    <tr>\n",
       "      <th>2</th>\n",
       "      <td>diphenhydramine</td>\n",
       "      <td>[{'Journal': 'Journal of emergency nursing', '...</td>\n",
       "    </tr>\n",
       "    <tr>\n",
       "      <th>3</th>\n",
       "      <td>epinephrine</td>\n",
       "      <td>[{'Journal': 'Journal of emergency nursing', '...</td>\n",
       "    </tr>\n",
       "    <tr>\n",
       "      <th>4</th>\n",
       "      <td>ethanol</td>\n",
       "      <td>[{'Journal': 'Psychopharmacology', 'Publicatio...</td>\n",
       "    </tr>\n",
       "    <tr>\n",
       "      <th>5</th>\n",
       "      <td>isoprenaline</td>\n",
       "      <td>[{'Journal': 'Journal of photochemistry and ph...</td>\n",
       "    </tr>\n",
       "    <tr>\n",
       "      <th>6</th>\n",
       "      <td>tetracycline</td>\n",
       "      <td>[{'Journal': 'American journal of veterinary r...</td>\n",
       "    </tr>\n",
       "  </tbody>\n",
       "</table>\n",
       "</div>"
      ],
      "text/plain": [
       "        Medicament                                           Citation\n",
       "0         atropine  [{'Journal': 'The journal of maternal-fetal & ...\n",
       "1    betamethasone  [{'Journal': 'Hôpitaux Universitaires de Genèv...\n",
       "2  diphenhydramine  [{'Journal': 'Journal of emergency nursing', '...\n",
       "3      epinephrine  [{'Journal': 'Journal of emergency nursing', '...\n",
       "4          ethanol  [{'Journal': 'Psychopharmacology', 'Publicatio...\n",
       "5     isoprenaline  [{'Journal': 'Journal of photochemistry and ph...\n",
       "6     tetracycline  [{'Journal': 'American journal of veterinary r..."
      ]
     },
     "execution_count": 75,
     "metadata": {},
     "output_type": "execute_result"
    }
   ],
   "source": [
    "drugs_mapping.groupby(['Medicament']).agg(list).reset_index()"
   ]
  },
  {
   "cell_type": "code",
   "execution_count": 76,
   "id": "0ce7392f-fded-48d6-ac82-2df581026457",
   "metadata": {},
   "outputs": [
    {
     "data": {
      "text/html": [
       "<div>\n",
       "<style scoped>\n",
       "    .dataframe tbody tr th:only-of-type {\n",
       "        vertical-align: middle;\n",
       "    }\n",
       "\n",
       "    .dataframe tbody tr th {\n",
       "        vertical-align: top;\n",
       "    }\n",
       "\n",
       "    .dataframe thead th {\n",
       "        text-align: right;\n",
       "    }\n",
       "</style>\n",
       "<table border=\"1\" class=\"dataframe\">\n",
       "  <thead>\n",
       "    <tr style=\"text-align: right;\">\n",
       "      <th></th>\n",
       "      <th>Medicament</th>\n",
       "      <th>Citation</th>\n",
       "    </tr>\n",
       "  </thead>\n",
       "  <tbody>\n",
       "    <tr>\n",
       "      <th>0</th>\n",
       "      <td>atropine</td>\n",
       "      <td>{'Journal': 'The journal of maternal-fetal &amp; n...</td>\n",
       "    </tr>\n",
       "    <tr>\n",
       "      <th>1</th>\n",
       "      <td>betamethasone</td>\n",
       "      <td>{'Journal': 'Hôpitaux Universitaires de Genève...</td>\n",
       "    </tr>\n",
       "    <tr>\n",
       "      <th>2</th>\n",
       "      <td>betamethasone</td>\n",
       "      <td>{'Journal': 'Journal of back and musculoskelet...</td>\n",
       "    </tr>\n",
       "    <tr>\n",
       "      <th>3</th>\n",
       "      <td>betamethasone</td>\n",
       "      <td>{'Journal': 'The journal of maternal-fetal &amp; n...</td>\n",
       "    </tr>\n",
       "    <tr>\n",
       "      <th>4</th>\n",
       "      <td>diphenhydramine</td>\n",
       "      <td>{'Journal': 'Journal of emergency nursing', 'P...</td>\n",
       "    </tr>\n",
       "    <tr>\n",
       "      <th>5</th>\n",
       "      <td>diphenhydramine</td>\n",
       "      <td>{'Journal': 'The Journal of pediatrics', 'Publ...</td>\n",
       "    </tr>\n",
       "    <tr>\n",
       "      <th>6</th>\n",
       "      <td>epinephrine</td>\n",
       "      <td>{'Journal': 'Journal of emergency nursing', 'P...</td>\n",
       "    </tr>\n",
       "    <tr>\n",
       "      <th>7</th>\n",
       "      <td>epinephrine</td>\n",
       "      <td>{'Journal': 'The journal of allergy and clinic...</td>\n",
       "    </tr>\n",
       "    <tr>\n",
       "      <th>8</th>\n",
       "      <td>ethanol</td>\n",
       "      <td>{'Journal': 'Psychopharmacology', 'Publication...</td>\n",
       "    </tr>\n",
       "    <tr>\n",
       "      <th>9</th>\n",
       "      <td>isoprenaline</td>\n",
       "      <td>{'Journal': 'Journal of photochemistry and pho...</td>\n",
       "    </tr>\n",
       "    <tr>\n",
       "      <th>10</th>\n",
       "      <td>tetracycline</td>\n",
       "      <td>{'Journal': 'American journal of veterinary re...</td>\n",
       "    </tr>\n",
       "    <tr>\n",
       "      <th>11</th>\n",
       "      <td>tetracycline</td>\n",
       "      <td>{'Journal': 'Journal of food protection', 'Pub...</td>\n",
       "    </tr>\n",
       "    <tr>\n",
       "      <th>12</th>\n",
       "      <td>tetracycline</td>\n",
       "      <td>{'Journal': 'Psychopharmacology', 'Publication...</td>\n",
       "    </tr>\n",
       "  </tbody>\n",
       "</table>\n",
       "</div>"
      ],
      "text/plain": [
       "         Medicament                                           Citation\n",
       "0          atropine  {'Journal': 'The journal of maternal-fetal & n...\n",
       "1     betamethasone  {'Journal': 'Hôpitaux Universitaires de Genève...\n",
       "2     betamethasone  {'Journal': 'Journal of back and musculoskelet...\n",
       "3     betamethasone  {'Journal': 'The journal of maternal-fetal & n...\n",
       "4   diphenhydramine  {'Journal': 'Journal of emergency nursing', 'P...\n",
       "5   diphenhydramine  {'Journal': 'The Journal of pediatrics', 'Publ...\n",
       "6       epinephrine  {'Journal': 'Journal of emergency nursing', 'P...\n",
       "7       epinephrine  {'Journal': 'The journal of allergy and clinic...\n",
       "8           ethanol  {'Journal': 'Psychopharmacology', 'Publication...\n",
       "9      isoprenaline  {'Journal': 'Journal of photochemistry and pho...\n",
       "10     tetracycline  {'Journal': 'American journal of veterinary re...\n",
       "11     tetracycline  {'Journal': 'Journal of food protection', 'Pub...\n",
       "12     tetracycline  {'Journal': 'Psychopharmacology', 'Publication..."
      ]
     },
     "execution_count": 76,
     "metadata": {},
     "output_type": "execute_result"
    }
   ],
   "source": [
    "drugs_mapping"
   ]
  },
  {
   "cell_type": "code",
   "execution_count": 73,
   "id": "12261500-b570-4844-ae38-14b1e64582bf",
   "metadata": {},
   "outputs": [],
   "source": [
    "drugs_mapping.to_json('records.json', orient='records', indent=4) "
   ]
  },
  {
   "cell_type": "code",
   "execution_count": null,
   "id": "7bd15fa6-4fb4-4fa1-8691-ee34fc955d19",
   "metadata": {},
   "outputs": [],
   "source": []
  },
  {
   "cell_type": "code",
   "execution_count": null,
   "id": "badeecb9-bb83-4a3c-be59-63168989148e",
   "metadata": {},
   "outputs": [],
   "source": []
  }
 ],
 "metadata": {
  "kernelspec": {
   "display_name": "Python 3",
   "language": "python",
   "name": "python3"
  },
  "language_info": {
   "codemirror_mode": {
    "name": "ipython",
    "version": 3
   },
   "file_extension": ".py",
   "mimetype": "text/x-python",
   "name": "python",
   "nbconvert_exporter": "python",
   "pygments_lexer": "ipython3",
   "version": "3.9.12"
  }
 },
 "nbformat": 4,
 "nbformat_minor": 5
}
