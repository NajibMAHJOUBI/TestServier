{
 "cells": [
  {
   "cell_type": "markdown",
   "id": "7bc921d6-64b0-4d33-82db-68f8c4e63f2a",
   "metadata": {},
   "source": [
    "# Exploration des données"
   ]
  },
  {
   "cell_type": "code",
   "execution_count": 1,
   "id": "0d59da41-4d45-4b5c-8f99-179637318001",
   "metadata": {},
   "outputs": [],
   "source": [
    "import os\n",
    "import sys\n",
    "import json5\n",
    "import json\n",
    "import pandas as pd"
   ]
  },
  {
   "cell_type": "code",
   "execution_count": 2,
   "id": "f7e65c0c-af1c-49b3-8634-9928fdcbb29a",
   "metadata": {},
   "outputs": [],
   "source": [
    "sys.path.append('..')"
   ]
  },
  {
   "cell_type": "code",
   "execution_count": 3,
   "id": "6ea5bd82-17cd-48b4-bcdc-48d1ed115fb9",
   "metadata": {},
   "outputs": [],
   "source": [
    "path_data = '..\\data\\publication'"
   ]
  },
  {
   "cell_type": "markdown",
   "id": "0d4471a6-363a-47ff-8f1f-4fc9dc0504e6",
   "metadata": {},
   "source": [
    "## Drugs"
   ]
  },
  {
   "cell_type": "code",
   "execution_count": 4,
   "id": "7c826cc7-e0e1-4267-8613-25bc6a6b8233",
   "metadata": {},
   "outputs": [
    {
     "data": {
      "text/html": [
       "<div>\n",
       "<style scoped>\n",
       "    .dataframe tbody tr th:only-of-type {\n",
       "        vertical-align: middle;\n",
       "    }\n",
       "\n",
       "    .dataframe tbody tr th {\n",
       "        vertical-align: top;\n",
       "    }\n",
       "\n",
       "    .dataframe thead th {\n",
       "        text-align: right;\n",
       "    }\n",
       "</style>\n",
       "<table border=\"1\" class=\"dataframe\">\n",
       "  <thead>\n",
       "    <tr style=\"text-align: right;\">\n",
       "      <th></th>\n",
       "      <th>atccode</th>\n",
       "      <th>drug</th>\n",
       "    </tr>\n",
       "  </thead>\n",
       "  <tbody>\n",
       "    <tr>\n",
       "      <th>0</th>\n",
       "      <td>A04AD</td>\n",
       "      <td>DIPHENHYDRAMINE</td>\n",
       "    </tr>\n",
       "    <tr>\n",
       "      <th>1</th>\n",
       "      <td>S03AA</td>\n",
       "      <td>TETRACYCLINE</td>\n",
       "    </tr>\n",
       "    <tr>\n",
       "      <th>2</th>\n",
       "      <td>V03AB</td>\n",
       "      <td>ETHANOL</td>\n",
       "    </tr>\n",
       "    <tr>\n",
       "      <th>3</th>\n",
       "      <td>A03BA</td>\n",
       "      <td>ATROPINE</td>\n",
       "    </tr>\n",
       "    <tr>\n",
       "      <th>4</th>\n",
       "      <td>A01AD</td>\n",
       "      <td>EPINEPHRINE</td>\n",
       "    </tr>\n",
       "    <tr>\n",
       "      <th>5</th>\n",
       "      <td>6302001</td>\n",
       "      <td>ISOPRENALINE</td>\n",
       "    </tr>\n",
       "    <tr>\n",
       "      <th>6</th>\n",
       "      <td>R01AD</td>\n",
       "      <td>BETAMETHASONE</td>\n",
       "    </tr>\n",
       "  </tbody>\n",
       "</table>\n",
       "</div>"
      ],
      "text/plain": [
       "   atccode             drug\n",
       "0    A04AD  DIPHENHYDRAMINE\n",
       "1    S03AA     TETRACYCLINE\n",
       "2    V03AB          ETHANOL\n",
       "3    A03BA         ATROPINE\n",
       "4    A01AD      EPINEPHRINE\n",
       "5  6302001     ISOPRENALINE\n",
       "6    R01AD    BETAMETHASONE"
      ]
     },
     "execution_count": 4,
     "metadata": {},
     "output_type": "execute_result"
    }
   ],
   "source": [
    "drugs = pd.read_csv(os.path.join('..\\data\\drugs.csv'))\n",
    "drugs"
   ]
  },
  {
   "cell_type": "code",
   "execution_count": 5,
   "id": "c42088cc-77a3-4aa9-b339-f414fb3178e7",
   "metadata": {
    "tags": []
   },
   "outputs": [
    {
     "name": "stdout",
     "output_type": "stream",
     "text": [
      "['atropine', 'betamethasone', 'diphenhydramine', 'epinephrine', 'ethanol', 'isoprenaline', 'tetracycline']\n"
     ]
    }
   ],
   "source": [
    "drugs_list = drugs['drug'].str.lower().values.tolist()\n",
    "print(sorted(drugs_list))"
   ]
  },
  {
   "cell_type": "markdown",
   "id": "5a28c4d0-80b9-42b5-a393-7faa2887de88",
   "metadata": {},
   "source": [
    "## Clinical Trials\n",
    "\n",
    "\n",
    "traiter les cas id=NCT03490942 dupliqué"
   ]
  },
  {
   "cell_type": "markdown",
   "id": "c1b9f994-4ee8-47ce-9f33-086b93d1a3a2",
   "metadata": {},
   "source": [
    "### Extarct"
   ]
  },
  {
   "cell_type": "code",
   "execution_count": 6,
   "id": "e0d09412-c9b0-44d9-935d-3380b4c6b079",
   "metadata": {},
   "outputs": [],
   "source": [
    "clinical_trials = pd.read_csv(os.path.join(path_data, 'clinical_trials.csv'))"
   ]
  },
  {
   "cell_type": "code",
   "execution_count": 7,
   "id": "44ecc055-db6a-4440-b16a-12be884c95d1",
   "metadata": {},
   "outputs": [
    {
     "name": "stderr",
     "output_type": "stream",
     "text": [
      "C:\\ProgramData\\Anaconda3\\envs\\geo_env\\lib\\site-packages\\ipykernel_launcher.py:1: FutureWarning: The default value of regex will change from True to False in a future version.\n",
      "  \"\"\"Entry point for launching an IPython kernel.\n"
     ]
    }
   ],
   "source": [
    "clinical_trials['title'] = clinical_trials['scientific_title'].str.replace(r'[^\\w\\s]+', '')"
   ]
  },
  {
   "cell_type": "code",
   "execution_count": 8,
   "id": "6ec9c1e5-3072-40b2-ae3e-85fdcb6598b3",
   "metadata": {},
   "outputs": [],
   "source": [
    "clinical_trials['title'] = clinical_trials['title'].str.split(' ')"
   ]
  },
  {
   "cell_type": "code",
   "execution_count": 9,
   "id": "db96ab31-6a19-4769-ad53-2a0a3aaa4b61",
   "metadata": {},
   "outputs": [
    {
     "name": "stdout",
     "output_type": "stream",
     "text": [
      "['Use of Diphenhydramine as an Adjunctive Sedative for Colonoscopy in Patients Chronically on Opioids']\n",
      "['Phase 2 Study IV QUZYTTIR™ (Cetirizine Hydrochloride Injection) vs V Diphenhydramine']\n",
      "['  ']\n",
      "['Feasibility of a Randomized Controlled Clinical Trial Comparing the Use of Cetirizine to Replace Diphenhydramine in the Prevention of Reactions Related to Paclitaxel']\n",
      "['Preemptive Infiltration With Betamethasone and Ropivacaine for Postoperative Pain in Laminoplasty or \\\\xc3\\\\xb1 Laminectomy']\n",
      "['Glucagon Infusion in T1D Patients With Recurrent Severe Hypoglycemia: Effects on Counter-Regulatory Responses']\n",
      "['Glucagon Infusion in T1D Patients With Recurrent Severe Hypoglycemia: Effects on Counter-Regulatory Responses']\n",
      "['Tranexamic Acid Versus Epinephrine During Exploratory Tympanotomy']\n"
     ]
    }
   ],
   "source": [
    "for title in clinical_trials[['scientific_title']].values:\n",
    "    print(title)"
   ]
  },
  {
   "cell_type": "code",
   "execution_count": 10,
   "id": "121c77fd-f047-43b6-b9dc-487de2bd7feb",
   "metadata": {},
   "outputs": [
    {
     "name": "stdout",
     "output_type": "stream",
     "text": [
      "[list(['Use', 'of', 'Diphenhydramine', 'as', 'an', 'Adjunctive', 'Sedative', 'for', 'Colonoscopy', 'in', 'Patients', 'Chronically', 'on', 'Opioids'])]\n",
      "[list(['Phase', '2', 'Study', 'IV', 'QUZYTTIR', 'Cetirizine', 'Hydrochloride', 'Injection', 'vs', 'V', 'Diphenhydramine'])]\n",
      "[list(['', '', ''])]\n",
      "[list(['Feasibility', 'of', 'a', 'Randomized', 'Controlled', 'Clinical', 'Trial', 'Comparing', 'the', 'Use', 'of', 'Cetirizine', 'to', 'Replace', 'Diphenhydramine', 'in', 'the', 'Prevention', 'of', 'Reactions', 'Related', 'to', 'Paclitaxel'])]\n",
      "[list(['Preemptive', 'Infiltration', 'With', 'Betamethasone', 'and', 'Ropivacaine', 'for', 'Postoperative', 'Pain', 'in', 'Laminoplasty', 'or', 'xc3xb1', 'Laminectomy'])]\n",
      "[list(['Glucagon', 'Infusion', 'in', 'T1D', 'Patients', 'With', 'Recurrent', 'Severe', 'Hypoglycemia', 'Effects', 'on', 'CounterRegulatory', 'Responses'])]\n",
      "[list(['Glucagon', 'Infusion', 'in', 'T1D', 'Patients', 'With', 'Recurrent', 'Severe', 'Hypoglycemia', 'Effects', 'on', 'CounterRegulatory', 'Responses'])]\n",
      "[list(['Tranexamic', 'Acid', 'Versus', 'Epinephrine', 'During', 'Exploratory', 'Tympanotomy'])]\n"
     ]
    }
   ],
   "source": [
    "for title in clinical_trials[['title']].values:\n",
    "    print(title)"
   ]
  },
  {
   "cell_type": "markdown",
   "id": "98ce4506-86cc-47c7-afae-ff7f816877a1",
   "metadata": {},
   "source": [
    "## PubMed CSV"
   ]
  },
  {
   "cell_type": "markdown",
   "id": "7192a447-288e-4662-aaf4-7d32058eaef7",
   "metadata": {},
   "source": [
    "### Extarct"
   ]
  },
  {
   "cell_type": "code",
   "execution_count": 11,
   "id": "72222961-06c9-4f23-b1d0-ec3ad49403ba",
   "metadata": {},
   "outputs": [],
   "source": [
    "pubmed_csv = pd.read_csv(os.path.join(path_data, 'pubmed.csv'))"
   ]
  },
  {
   "cell_type": "code",
   "execution_count": 12,
   "id": "9eaff0c1-6cc4-49a6-8562-40b28088e605",
   "metadata": {},
   "outputs": [
    {
     "name": "stderr",
     "output_type": "stream",
     "text": [
      "C:\\ProgramData\\Anaconda3\\envs\\geo_env\\lib\\site-packages\\ipykernel_launcher.py:1: FutureWarning: The default value of regex will change from True to False in a future version.\n",
      "  \"\"\"Entry point for launching an IPython kernel.\n"
     ]
    }
   ],
   "source": [
    "pubmed_csv['title1'] = pubmed_csv['title'].str.replace(r'[^\\w\\s]+', ' ')"
   ]
  },
  {
   "cell_type": "code",
   "execution_count": 13,
   "id": "9e69fdf2-3347-4e9c-9517-b6c118580cff",
   "metadata": {},
   "outputs": [],
   "source": [
    "pubmed_csv['title1'] = pubmed_csv['title1'].str.split(' ')"
   ]
  },
  {
   "cell_type": "code",
   "execution_count": 14,
   "id": "a5b9e9eb-aa09-4b6a-9a4f-0dd94a2d391a",
   "metadata": {},
   "outputs": [
    {
     "name": "stdout",
     "output_type": "stream",
     "text": [
      "['A 44-year-old man with erythema of the face diphenhydramine, neck, and chest, weakness, and palpitations']\n",
      "['An evaluation of benadryl, pyribenzamine, and other so-called diphenhydramine antihistaminic drugs in the treatment of allergy.']\n",
      "['Diphenhydramine hydrochloride helps symptoms of ciguatera fish poisoning.']\n",
      "['Tetracycline Resistance Patterns of Lactobacillus buchneri Group Strains.']\n",
      "['Appositional Tetracycline bone formation rates in the Beagle.']\n",
      "['Rapid reacquisition of contextual fear following extinction in mice: effects of amount of extinction, tetracycline acute ethanol withdrawal, and ethanol intoxication.']\n",
      "['The High Cost of Epinephrine Autoinjectors and Possible Alternatives.']\n",
      "['Time to epinephrine treatment is associated with the risk of mortality in children who achieve sustained ROSC after traumatic out-of-hospital cardiac arrest.']\n"
     ]
    }
   ],
   "source": [
    "for title in pubmed_csv[['title']].values:\n",
    "    print(title)"
   ]
  },
  {
   "cell_type": "code",
   "execution_count": 15,
   "id": "8800755d-b363-4347-bb92-1b133dbdef13",
   "metadata": {},
   "outputs": [
    {
     "name": "stdout",
     "output_type": "stream",
     "text": [
      "[list(['A', '44', 'year', 'old', 'man', 'with', 'erythema', 'of', 'the', 'face', 'diphenhydramine', '', 'neck', '', 'and', 'chest', '', 'weakness', '', 'and', 'palpitations'])]\n",
      "[list(['An', 'evaluation', 'of', 'benadryl', '', 'pyribenzamine', '', 'and', 'other', 'so', 'called', 'diphenhydramine', 'antihistaminic', 'drugs', 'in', 'the', 'treatment', 'of', 'allergy', ''])]\n",
      "[list(['Diphenhydramine', 'hydrochloride', 'helps', 'symptoms', 'of', 'ciguatera', 'fish', 'poisoning', ''])]\n",
      "[list(['Tetracycline', 'Resistance', 'Patterns', 'of', 'Lactobacillus', 'buchneri', 'Group', 'Strains', ''])]\n",
      "[list(['Appositional', 'Tetracycline', 'bone', 'formation', 'rates', 'in', 'the', 'Beagle', ''])]\n",
      "[list(['Rapid', 'reacquisition', 'of', 'contextual', 'fear', 'following', 'extinction', 'in', 'mice', '', 'effects', 'of', 'amount', 'of', 'extinction', '', 'tetracycline', 'acute', 'ethanol', 'withdrawal', '', 'and', 'ethanol', 'intoxication', ''])]\n",
      "[list(['The', 'High', 'Cost', 'of', 'Epinephrine', 'Autoinjectors', 'and', 'Possible', 'Alternatives', ''])]\n",
      "[list(['Time', 'to', 'epinephrine', 'treatment', 'is', 'associated', 'with', 'the', 'risk', 'of', 'mortality', 'in', 'children', 'who', 'achieve', 'sustained', 'ROSC', 'after', 'traumatic', 'out', 'of', 'hospital', 'cardiac', 'arrest', ''])]\n"
     ]
    }
   ],
   "source": [
    "for title in pubmed_csv[['title1']].values:\n",
    "    print(title)"
   ]
  },
  {
   "cell_type": "markdown",
   "id": "9f2f0a37-4189-4255-82f9-89be09fc5549",
   "metadata": {},
   "source": [
    "## PubMed JSON\n",
    "\n",
    "Problème sur le fichier json - cause: \"trailing comma\"\n",
    "Mauvaise spécification du fichier JSON  conforméméent à la RFC-7159."
   ]
  },
  {
   "cell_type": "markdown",
   "id": "93576275-b93b-4a1c-9bb6-e9251c16640a",
   "metadata": {},
   "source": [
    "### Extract"
   ]
  },
  {
   "cell_type": "code",
   "execution_count": 16,
   "id": "921e9750-1fb8-4cc7-a672-85344b49c40a",
   "metadata": {},
   "outputs": [],
   "source": [
    "with open(os.path.join(path_data, 'pubmed.json')) as f:\n",
    "    data = json5.load(f)\n",
    "    pubmed_json = pd.DataFrame(data)"
   ]
  },
  {
   "cell_type": "code",
   "execution_count": 17,
   "id": "a9212a49-da1f-49aa-88b7-ba25953afdd7",
   "metadata": {},
   "outputs": [
    {
     "name": "stderr",
     "output_type": "stream",
     "text": [
      "C:\\ProgramData\\Anaconda3\\envs\\geo_env\\lib\\site-packages\\ipykernel_launcher.py:1: FutureWarning: The default value of regex will change from True to False in a future version.\n",
      "  \"\"\"Entry point for launching an IPython kernel.\n"
     ]
    }
   ],
   "source": [
    "pubmed_json['title1'] = pubmed_json['title'].str.replace(r'[^\\w\\s]+', ' ')"
   ]
  },
  {
   "cell_type": "code",
   "execution_count": 18,
   "id": "140c33a5-f267-495a-be5c-66e9bedf6ab4",
   "metadata": {},
   "outputs": [],
   "source": [
    "pubmed_json['title1'] = pubmed_json['title1'].str.split(' ')"
   ]
  },
  {
   "cell_type": "code",
   "execution_count": 19,
   "id": "c3401be3-05e0-4f4e-be50-657e71983e86",
   "metadata": {},
   "outputs": [
    {
     "name": "stdout",
     "output_type": "stream",
     "text": [
      "['Gold nanoparticles synthesized from Euphorbia fischeriana root by green route method alleviates the isoprenaline hydrochloride induced myocardial infarction in rats.']\n",
      "['Clinical implications of umbilical artery Doppler changes after betamethasone administration']\n",
      "['Effects of Topical Application of Betamethasone on Imiquimod-induced Psoriasis-like Skin Inflammation in Mice.']\n",
      "['Comparison of pressure release, phonophoresis and dry needling in treatment of latent myofascial trigger point of upper trapezius muscle.']\n",
      "['Comparison of pressure BETAMETHASONE release, phonophoresis and dry needling in treatment of latent myofascial trigger point of upper trapezius ATROPINE muscle.']\n"
     ]
    }
   ],
   "source": [
    "for title in pubmed_json[['title']].values:\n",
    "    print(title)"
   ]
  },
  {
   "cell_type": "code",
   "execution_count": 20,
   "id": "16d7a8e0-39d0-4288-af62-ae206ee53b3c",
   "metadata": {},
   "outputs": [
    {
     "name": "stdout",
     "output_type": "stream",
     "text": [
      "[list(['Gold', 'nanoparticles', 'synthesized', 'from', 'Euphorbia', 'fischeriana', 'root', 'by', 'green', 'route', 'method', 'alleviates', 'the', 'isoprenaline', 'hydrochloride', 'induced', 'myocardial', 'infarction', 'in', 'rats', ''])]\n",
      "[list(['Clinical', 'implications', 'of', 'umbilical', 'artery', 'Doppler', 'changes', 'after', 'betamethasone', 'administration'])]\n",
      "[list(['Effects', 'of', 'Topical', 'Application', 'of', 'Betamethasone', 'on', 'Imiquimod', 'induced', 'Psoriasis', 'like', 'Skin', 'Inflammation', 'in', 'Mice', ''])]\n",
      "[list(['Comparison', 'of', 'pressure', 'release', '', 'phonophoresis', 'and', 'dry', 'needling', 'in', 'treatment', 'of', 'latent', 'myofascial', 'trigger', 'point', 'of', 'upper', 'trapezius', 'muscle', ''])]\n",
      "[list(['Comparison', 'of', 'pressure', 'BETAMETHASONE', 'release', '', 'phonophoresis', 'and', 'dry', 'needling', 'in', 'treatment', 'of', 'latent', 'myofascial', 'trigger', 'point', 'of', 'upper', 'trapezius', 'ATROPINE', 'muscle', ''])]\n"
     ]
    }
   ],
   "source": [
    "for title in pubmed_json[['title1']].values:\n",
    "    print(title)"
   ]
  },
  {
   "cell_type": "code",
   "execution_count": 25,
   "id": "0c7a8d9b-54fb-4247-a728-299eb8ce2eaa",
   "metadata": {},
   "outputs": [],
   "source": [
    "\n",
    "import nltk.corpus\n",
    "\n",
    "\n",
    "from nltk.corpus import stopwords\n",
    "stop_words = stopwords.words('english') + ['']\n",
    "\n",
    "pubmed_json['clean_title'] = pubmed_json['title1'].apply(lambda words: [word for word in words if word not in (stop_words)])"
   ]
  },
  {
   "cell_type": "code",
   "execution_count": 26,
   "id": "fb9e16f7-762e-4b58-9bb4-411739191769",
   "metadata": {},
   "outputs": [
    {
     "name": "stdout",
     "output_type": "stream",
     "text": [
      "[list(['Gold', 'nanoparticles', 'synthesized', 'Euphorbia', 'fischeriana', 'root', 'green', 'route', 'method', 'alleviates', 'isoprenaline', 'hydrochloride', 'induced', 'myocardial', 'infarction', 'rats'])]\n",
      "[list(['Clinical', 'implications', 'umbilical', 'artery', 'Doppler', 'changes', 'betamethasone', 'administration'])]\n",
      "[list(['Effects', 'Topical', 'Application', 'Betamethasone', 'Imiquimod', 'induced', 'Psoriasis', 'like', 'Skin', 'Inflammation', 'Mice'])]\n",
      "[list(['Comparison', 'pressure', 'release', 'phonophoresis', 'dry', 'needling', 'treatment', 'latent', 'myofascial', 'trigger', 'point', 'upper', 'trapezius', 'muscle'])]\n",
      "[list(['Comparison', 'pressure', 'BETAMETHASONE', 'release', 'phonophoresis', 'dry', 'needling', 'treatment', 'latent', 'myofascial', 'trigger', 'point', 'upper', 'trapezius', 'ATROPINE', 'muscle'])]\n"
     ]
    }
   ],
   "source": [
    "for title in pubmed_json[['clean_title']].values:\n",
    "    print(title)"
   ]
  },
  {
   "cell_type": "code",
   "execution_count": null,
   "id": "cd5b0d71-e7c1-4e27-8298-eb8bfbed5a56",
   "metadata": {},
   "outputs": [],
   "source": []
  }
 ],
 "metadata": {
  "kernelspec": {
   "display_name": "Python 3 (ipykernel)",
   "language": "python",
   "name": "python3"
  },
  "language_info": {
   "codemirror_mode": {
    "name": "ipython",
    "version": 3
   },
   "file_extension": ".py",
   "mimetype": "text/x-python",
   "name": "python",
   "nbconvert_exporter": "python",
   "pygments_lexer": "ipython3",
   "version": "3.7.13"
  }
 },
 "nbformat": 4,
 "nbformat_minor": 5
}
