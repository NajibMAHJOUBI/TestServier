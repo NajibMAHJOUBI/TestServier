{
 "cells": [
  {
   "cell_type": "markdown",
   "id": "7bc921d6-64b0-4d33-82db-68f8c4e63f2a",
   "metadata": {},
   "source": [
    "# Exploration des données"
   ]
  },
  {
   "cell_type": "code",
   "execution_count": 29,
   "id": "0d59da41-4d45-4b5c-8f99-179637318001",
   "metadata": {},
   "outputs": [],
   "source": [
    "import os\n",
    "import sys\n",
    "import json5\n",
    "import json\n",
    "import pandas as pd"
   ]
  },
  {
   "cell_type": "code",
   "execution_count": 2,
   "id": "f7e65c0c-af1c-49b3-8634-9928fdcbb29a",
   "metadata": {},
   "outputs": [],
   "source": [
    "sys.path.append('..')"
   ]
  },
  {
   "cell_type": "code",
   "execution_count": 3,
   "id": "ca2406ec-498a-463f-9b79-05c0c48cd58c",
   "metadata": {},
   "outputs": [],
   "source": [
    "from transforms import transform\n",
    "from transforms import concatenate_data"
   ]
  },
  {
   "cell_type": "code",
   "execution_count": 4,
   "id": "6ea5bd82-17cd-48b4-bcdc-48d1ed115fb9",
   "metadata": {},
   "outputs": [],
   "source": [
    "path_data = '..\\data'"
   ]
  },
  {
   "cell_type": "markdown",
   "id": "0d4471a6-363a-47ff-8f1f-4fc9dc0504e6",
   "metadata": {},
   "source": [
    "## Drugs"
   ]
  },
  {
   "cell_type": "code",
   "execution_count": 5,
   "id": "7c826cc7-e0e1-4267-8613-25bc6a6b8233",
   "metadata": {},
   "outputs": [
    {
     "data": {
      "text/html": [
       "<div>\n",
       "<style scoped>\n",
       "    .dataframe tbody tr th:only-of-type {\n",
       "        vertical-align: middle;\n",
       "    }\n",
       "\n",
       "    .dataframe tbody tr th {\n",
       "        vertical-align: top;\n",
       "    }\n",
       "\n",
       "    .dataframe thead th {\n",
       "        text-align: right;\n",
       "    }\n",
       "</style>\n",
       "<table border=\"1\" class=\"dataframe\">\n",
       "  <thead>\n",
       "    <tr style=\"text-align: right;\">\n",
       "      <th></th>\n",
       "      <th>atccode</th>\n",
       "      <th>drug</th>\n",
       "    </tr>\n",
       "  </thead>\n",
       "  <tbody>\n",
       "    <tr>\n",
       "      <th>0</th>\n",
       "      <td>A04AD</td>\n",
       "      <td>DIPHENHYDRAMINE</td>\n",
       "    </tr>\n",
       "    <tr>\n",
       "      <th>1</th>\n",
       "      <td>S03AA</td>\n",
       "      <td>TETRACYCLINE</td>\n",
       "    </tr>\n",
       "    <tr>\n",
       "      <th>2</th>\n",
       "      <td>V03AB</td>\n",
       "      <td>ETHANOL</td>\n",
       "    </tr>\n",
       "    <tr>\n",
       "      <th>3</th>\n",
       "      <td>A03BA</td>\n",
       "      <td>ATROPINE</td>\n",
       "    </tr>\n",
       "    <tr>\n",
       "      <th>4</th>\n",
       "      <td>A01AD</td>\n",
       "      <td>EPINEPHRINE</td>\n",
       "    </tr>\n",
       "    <tr>\n",
       "      <th>5</th>\n",
       "      <td>6302001</td>\n",
       "      <td>ISOPRENALINE</td>\n",
       "    </tr>\n",
       "    <tr>\n",
       "      <th>6</th>\n",
       "      <td>R01AD</td>\n",
       "      <td>BETAMETHASONE</td>\n",
       "    </tr>\n",
       "  </tbody>\n",
       "</table>\n",
       "</div>"
      ],
      "text/plain": [
       "   atccode             drug\n",
       "0    A04AD  DIPHENHYDRAMINE\n",
       "1    S03AA     TETRACYCLINE\n",
       "2    V03AB          ETHANOL\n",
       "3    A03BA         ATROPINE\n",
       "4    A01AD      EPINEPHRINE\n",
       "5  6302001     ISOPRENALINE\n",
       "6    R01AD    BETAMETHASONE"
      ]
     },
     "execution_count": 5,
     "metadata": {},
     "output_type": "execute_result"
    }
   ],
   "source": [
    "drugs = pd.read_csv(os.path.join(path_data, 'drugs.csv'))\n",
    "drugs"
   ]
  },
  {
   "cell_type": "code",
   "execution_count": 6,
   "id": "c42088cc-77a3-4aa9-b339-f414fb3178e7",
   "metadata": {
    "tags": []
   },
   "outputs": [
    {
     "name": "stdout",
     "output_type": "stream",
     "text": [
      "['diphenhydramine', 'tetracycline', 'ethanol', 'atropine', 'epinephrine', 'isoprenaline', 'betamethasone']\n"
     ]
    }
   ],
   "source": [
    "drugs_list = drugs['drug'].str.lower().values.tolist()\n",
    "print(drugs_list)"
   ]
  },
  {
   "cell_type": "markdown",
   "id": "5a28c4d0-80b9-42b5-a393-7faa2887de88",
   "metadata": {},
   "source": [
    "## Clinical Trials\n",
    "\n",
    "\n",
    "traiter les cas id=NCT03490942 dupliqué"
   ]
  },
  {
   "cell_type": "markdown",
   "id": "c1b9f994-4ee8-47ce-9f33-086b93d1a3a2",
   "metadata": {},
   "source": [
    "### Extarct"
   ]
  },
  {
   "cell_type": "code",
   "execution_count": 7,
   "id": "e0d09412-c9b0-44d9-935d-3380b4c6b079",
   "metadata": {},
   "outputs": [],
   "source": [
    "clinical_trials = pd.read_csv(os.path.join(path_data, 'clinical_trials.csv'))"
   ]
  },
  {
   "cell_type": "markdown",
   "id": "d601f04f-cb31-4ae3-b129-e7f752fefc92",
   "metadata": {},
   "source": [
    "### Transform"
   ]
  },
  {
   "cell_type": "code",
   "execution_count": 8,
   "id": "32f61af5-1ba4-410d-b522-ffd47b2dbdfc",
   "metadata": {},
   "outputs": [],
   "source": [
    "tf_clinical_trials = transform(clinical_trials, drugs_list)"
   ]
  },
  {
   "cell_type": "code",
   "execution_count": 57,
   "id": "341a6ed8-2611-4b05-bcb5-8a3d1e402e3f",
   "metadata": {},
   "outputs": [
    {
     "data": {
      "text/html": [
       "<div>\n",
       "<style scoped>\n",
       "    .dataframe tbody tr th:only-of-type {\n",
       "        vertical-align: middle;\n",
       "    }\n",
       "\n",
       "    .dataframe tbody tr th {\n",
       "        vertical-align: top;\n",
       "    }\n",
       "\n",
       "    .dataframe thead th {\n",
       "        text-align: right;\n",
       "    }\n",
       "</style>\n",
       "<table border=\"1\" class=\"dataframe\">\n",
       "  <thead>\n",
       "    <tr style=\"text-align: right;\">\n",
       "      <th></th>\n",
       "      <th>id</th>\n",
       "      <th>date</th>\n",
       "      <th>journal</th>\n",
       "      <th>drugs</th>\n",
       "      <th>values</th>\n",
       "    </tr>\n",
       "  </thead>\n",
       "  <tbody>\n",
       "    <tr>\n",
       "      <th>0</th>\n",
       "      <td>NCT01967433</td>\n",
       "      <td>2020-01-01</td>\n",
       "      <td>Journal of emergency nursing</td>\n",
       "      <td>diphenhydramine</td>\n",
       "      <td>{'Journal of emergency nursing': {'2020-01-01'...</td>\n",
       "    </tr>\n",
       "    <tr>\n",
       "      <th>1</th>\n",
       "      <td>NCT04189588</td>\n",
       "      <td>2020-01-01</td>\n",
       "      <td>Journal of emergency nursing</td>\n",
       "      <td>diphenhydramine</td>\n",
       "      <td>{'Journal of emergency nursing': {'2020-01-01'...</td>\n",
       "    </tr>\n",
       "    <tr>\n",
       "      <th>3</th>\n",
       "      <td>NCT04237091</td>\n",
       "      <td>2020-01-01</td>\n",
       "      <td>Journal of emergency nursing</td>\n",
       "      <td>diphenhydramine</td>\n",
       "      <td>{'Journal of emergency nursing': {'2020-01-01'...</td>\n",
       "    </tr>\n",
       "    <tr>\n",
       "      <th>4</th>\n",
       "      <td>NCT04153396</td>\n",
       "      <td>2020-01-01</td>\n",
       "      <td>Hôpitaux Universitaires de Genève</td>\n",
       "      <td>betamethasone</td>\n",
       "      <td>{'Hôpitaux Universitaires de Genève': {'2020-0...</td>\n",
       "    </tr>\n",
       "    <tr>\n",
       "      <th>7</th>\n",
       "      <td>NCT04188184</td>\n",
       "      <td>2020-04-27</td>\n",
       "      <td>Journal of emergency nursing</td>\n",
       "      <td>epinephrine</td>\n",
       "      <td>{'Journal of emergency nursing': {'2020-04-27'...</td>\n",
       "    </tr>\n",
       "  </tbody>\n",
       "</table>\n",
       "</div>"
      ],
      "text/plain": [
       "            id        date                            journal  \\\n",
       "0  NCT01967433  2020-01-01       Journal of emergency nursing   \n",
       "1  NCT04189588  2020-01-01       Journal of emergency nursing   \n",
       "3  NCT04237091  2020-01-01       Journal of emergency nursing   \n",
       "4  NCT04153396  2020-01-01  Hôpitaux Universitaires de Genève   \n",
       "7  NCT04188184  2020-04-27       Journal of emergency nursing   \n",
       "\n",
       "             drugs                                             values  \n",
       "0  diphenhydramine  {'Journal of emergency nursing': {'2020-01-01'...  \n",
       "1  diphenhydramine  {'Journal of emergency nursing': {'2020-01-01'...  \n",
       "3  diphenhydramine  {'Journal of emergency nursing': {'2020-01-01'...  \n",
       "4    betamethasone  {'Hôpitaux Universitaires de Genève': {'2020-0...  \n",
       "7      epinephrine  {'Journal of emergency nursing': {'2020-04-27'...  "
      ]
     },
     "execution_count": 57,
     "metadata": {},
     "output_type": "execute_result"
    }
   ],
   "source": [
    "tf_clinical_trials"
   ]
  },
  {
   "cell_type": "markdown",
   "id": "98ce4506-86cc-47c7-afae-ff7f816877a1",
   "metadata": {},
   "source": [
    "## PubMed CSV"
   ]
  },
  {
   "cell_type": "markdown",
   "id": "7192a447-288e-4662-aaf4-7d32058eaef7",
   "metadata": {},
   "source": [
    "### Extarct"
   ]
  },
  {
   "cell_type": "code",
   "execution_count": 9,
   "id": "72222961-06c9-4f23-b1d0-ec3ad49403ba",
   "metadata": {},
   "outputs": [],
   "source": [
    "pubmed_csv = pd.read_csv(os.path.join(path_data, 'pubmed.csv'))"
   ]
  },
  {
   "cell_type": "markdown",
   "id": "33c7b07c-becb-44ba-8bf3-210cfc777d30",
   "metadata": {},
   "source": [
    "### Transform"
   ]
  },
  {
   "cell_type": "code",
   "execution_count": 10,
   "id": "712e5d9a-b294-478d-aff2-2e85fb9d34ee",
   "metadata": {},
   "outputs": [],
   "source": [
    "tf_pubmed_csv = transform(pubmed_csv, drugs_list)#.data_dict.iloc[3]"
   ]
  },
  {
   "cell_type": "code",
   "execution_count": 56,
   "id": "ce6a992d-c392-4164-9418-1ab7eeb6137c",
   "metadata": {},
   "outputs": [
    {
     "data": {
      "text/html": [
       "<div>\n",
       "<style scoped>\n",
       "    .dataframe tbody tr th:only-of-type {\n",
       "        vertical-align: middle;\n",
       "    }\n",
       "\n",
       "    .dataframe tbody tr th {\n",
       "        vertical-align: top;\n",
       "    }\n",
       "\n",
       "    .dataframe thead th {\n",
       "        text-align: right;\n",
       "    }\n",
       "</style>\n",
       "<table border=\"1\" class=\"dataframe\">\n",
       "  <thead>\n",
       "    <tr style=\"text-align: right;\">\n",
       "      <th></th>\n",
       "      <th>id</th>\n",
       "      <th>date</th>\n",
       "      <th>journal</th>\n",
       "      <th>drugs</th>\n",
       "      <th>values</th>\n",
       "    </tr>\n",
       "  </thead>\n",
       "  <tbody>\n",
       "    <tr>\n",
       "      <th>1</th>\n",
       "      <td>2</td>\n",
       "      <td>2019-01-01</td>\n",
       "      <td>Journal of emergency nursing</td>\n",
       "      <td>diphenhydramine</td>\n",
       "      <td>{'Journal of emergency nursing': {'2019-01-01'...</td>\n",
       "    </tr>\n",
       "    <tr>\n",
       "      <th>2</th>\n",
       "      <td>3</td>\n",
       "      <td>2019-02-01</td>\n",
       "      <td>The Journal of pediatrics</td>\n",
       "      <td>diphenhydramine</td>\n",
       "      <td>{'The Journal of pediatrics': {'2019-02-01': [...</td>\n",
       "    </tr>\n",
       "    <tr>\n",
       "      <th>3</th>\n",
       "      <td>4</td>\n",
       "      <td>2020-01-01</td>\n",
       "      <td>Journal of food protection</td>\n",
       "      <td>tetracycline</td>\n",
       "      <td>{'Journal of food protection': {'2020-01-01': ...</td>\n",
       "    </tr>\n",
       "    <tr>\n",
       "      <th>4</th>\n",
       "      <td>5</td>\n",
       "      <td>2020-02-01</td>\n",
       "      <td>American journal of veterinary research</td>\n",
       "      <td>tetracycline</td>\n",
       "      <td>{'American journal of veterinary research': {'...</td>\n",
       "    </tr>\n",
       "    <tr>\n",
       "      <th>5</th>\n",
       "      <td>6</td>\n",
       "      <td>2020-01-01</td>\n",
       "      <td>Psychopharmacology</td>\n",
       "      <td>ethanol</td>\n",
       "      <td>{'Psychopharmacology': {'2020-01-01': [6]}}</td>\n",
       "    </tr>\n",
       "    <tr>\n",
       "      <th>5</th>\n",
       "      <td>6</td>\n",
       "      <td>2020-01-01</td>\n",
       "      <td>Psychopharmacology</td>\n",
       "      <td>tetracycline</td>\n",
       "      <td>{'Psychopharmacology': {'2020-01-01': [6]}}</td>\n",
       "    </tr>\n",
       "    <tr>\n",
       "      <th>6</th>\n",
       "      <td>7</td>\n",
       "      <td>2020-01-02</td>\n",
       "      <td>The journal of allergy and clinical immunology...</td>\n",
       "      <td>epinephrine</td>\n",
       "      <td>{'The journal of allergy and clinical immunolo...</td>\n",
       "    </tr>\n",
       "    <tr>\n",
       "      <th>7</th>\n",
       "      <td>8</td>\n",
       "      <td>2020-01-03</td>\n",
       "      <td>The journal of allergy and clinical immunology...</td>\n",
       "      <td>epinephrine</td>\n",
       "      <td>{'The journal of allergy and clinical immunolo...</td>\n",
       "    </tr>\n",
       "  </tbody>\n",
       "</table>\n",
       "</div>"
      ],
      "text/plain": [
       "   id        date                                            journal  \\\n",
       "1   2  2019-01-01                       Journal of emergency nursing   \n",
       "2   3  2019-02-01                          The Journal of pediatrics   \n",
       "3   4  2020-01-01                         Journal of food protection   \n",
       "4   5  2020-02-01            American journal of veterinary research   \n",
       "5   6  2020-01-01                                 Psychopharmacology   \n",
       "5   6  2020-01-01                                 Psychopharmacology   \n",
       "6   7  2020-01-02  The journal of allergy and clinical immunology...   \n",
       "7   8  2020-01-03  The journal of allergy and clinical immunology...   \n",
       "\n",
       "             drugs                                             values  \n",
       "1  diphenhydramine  {'Journal of emergency nursing': {'2019-01-01'...  \n",
       "2  diphenhydramine  {'The Journal of pediatrics': {'2019-02-01': [...  \n",
       "3     tetracycline  {'Journal of food protection': {'2020-01-01': ...  \n",
       "4     tetracycline  {'American journal of veterinary research': {'...  \n",
       "5          ethanol        {'Psychopharmacology': {'2020-01-01': [6]}}  \n",
       "5     tetracycline        {'Psychopharmacology': {'2020-01-01': [6]}}  \n",
       "6      epinephrine  {'The journal of allergy and clinical immunolo...  \n",
       "7      epinephrine  {'The journal of allergy and clinical immunolo...  "
      ]
     },
     "execution_count": 56,
     "metadata": {},
     "output_type": "execute_result"
    }
   ],
   "source": [
    "tf_pubmed_csv"
   ]
  },
  {
   "cell_type": "markdown",
   "id": "9f2f0a37-4189-4255-82f9-89be09fc5549",
   "metadata": {},
   "source": [
    "## PubMed JSON\n",
    "\n",
    "Problème sur le fichier json - cause: \"trailing comma\"\n",
    "Mauvaise spécification du fichier JSON  conforméméent à la RFC-7159."
   ]
  },
  {
   "cell_type": "markdown",
   "id": "93576275-b93b-4a1c-9bb6-e9251c16640a",
   "metadata": {},
   "source": [
    "### Extract"
   ]
  },
  {
   "cell_type": "code",
   "execution_count": 11,
   "id": "921e9750-1fb8-4cc7-a672-85344b49c40a",
   "metadata": {},
   "outputs": [],
   "source": [
    "with open(os.path.join(path_data, 'pubmed.json')) as f:\n",
    "    data = json5.load(f)\n",
    "    pubmed_json = pd.DataFrame(data)"
   ]
  },
  {
   "cell_type": "markdown",
   "id": "7ae6ca80-a0a9-45fb-908c-c37d2ae4ae30",
   "metadata": {},
   "source": [
    "### Transform"
   ]
  },
  {
   "cell_type": "code",
   "execution_count": 12,
   "id": "a75af246-0d4a-460f-8d62-babd60e52e79",
   "metadata": {},
   "outputs": [],
   "source": [
    "tf_pubmed_json = transform(pubmed_json, drugs_list)#.data_dict.iloc[3]"
   ]
  },
  {
   "cell_type": "code",
   "execution_count": null,
   "id": "8cf057c7-c484-4ce3-b771-e000d2db5ad2",
   "metadata": {},
   "outputs": [],
   "source": [
    "tf_pubmed_json"
   ]
  },
  {
   "cell_type": "code",
   "execution_count": null,
   "id": "64ce9a5b-9896-4d61-ad10-2bee6680df01",
   "metadata": {},
   "outputs": [],
   "source": []
  },
  {
   "cell_type": "markdown",
   "id": "92aaf40b-be5c-4516-91b0-a8e6b133f24d",
   "metadata": {},
   "source": [
    "### Concatenate data"
   ]
  },
  {
   "cell_type": "code",
   "execution_count": 38,
   "id": "78a783bc-3474-47e8-abec-c134a27b1ef5",
   "metadata": {},
   "outputs": [],
   "source": [
    "final_results = concatenate_data([tf_clinical_trials, tf_pubmed_csv, tf_pubmed_json])"
   ]
  },
  {
   "cell_type": "code",
   "execution_count": null,
   "id": "9cf958fe-58d7-4f32-af0d-62ecba24c1bd",
   "metadata": {},
   "outputs": [],
   "source": []
  },
  {
   "cell_type": "code",
   "execution_count": 51,
   "id": "5645ece4-515e-49f7-ba66-0e213578e059",
   "metadata": {},
   "outputs": [
    {
     "data": {
      "text/plain": [
       "{'atropine': {'The journal of maternal-fetal & neonatal medicine': {'2020-01-03': ['']}},\n",
       " 'betamethasone': {'The journal of maternal-fetal & neonatal medicine': {'2020-01-01': [10],\n",
       "   '2020-01-03': ['']},\n",
       "  'Journal of back and musculoskeletal rehabilitation': {'2020-01-01': ['11']},\n",
       "  'Hôpitaux Universitaires de Genève': {'2020-01-01': ['NCT04153396']}},\n",
       " 'diphenhydramine': {'Journal of emergency nursing': {'2020-01-01': ['NCT01967433',\n",
       "    'NCT04189588',\n",
       "    'NCT04237091'],\n",
       "   '2019-01-01': [2]},\n",
       "  'The Journal of pediatrics': {'2019-02-01': [3]}},\n",
       " 'epinephrine': {'The journal of allergy and clinical immunology. In practice': {'2020-01-03': [8],\n",
       "   '2020-01-02': [7]},\n",
       "  'Journal of emergency nursing': {'2020-04-27': ['NCT04188184']}},\n",
       " 'ethanol': {'Psychopharmacology': {'2020-01-01': [6]}},\n",
       " 'isoprenaline': {'Journal of photochemistry and photobiology. B, Biology': {'2020-01-01': [9]}},\n",
       " 'tetracycline': {'American journal of veterinary research': {'2020-02-01': [5]},\n",
       "  'Psychopharmacology': {'2020-01-01': [6]},\n",
       "  'Journal of food protection': {'2020-01-01': [4]}}}"
      ]
     },
     "execution_count": 51,
     "metadata": {},
     "output_type": "execute_result"
    }
   ],
   "source": [
    "json_data = final_results.set_index('drugs').to_dict()['values']\n",
    "type(json_data)\n",
    "json_data"
   ]
  },
  {
   "cell_type": "code",
   "execution_count": 58,
   "id": "e2ac6c13-f2d6-4f5d-b091-fd00277731e0",
   "metadata": {},
   "outputs": [],
   "source": [
    "import json \n",
    "# # create json object from dictionary\n",
    "# json_data = json.dumps(json_data, indent=2)\n",
    "\n",
    "# open file for writing, \"w\" \n",
    "with open(\"drugs_map.json\",\"w\") as write_file:\n",
    "    json.dump(json_data, write_file, indent=2)\n",
    "\n",
    "# close file\n",
    "f.close()\n"
   ]
  },
  {
   "cell_type": "markdown",
   "id": "7b88aa66-7ba6-440a-b501-a548f88fffb3",
   "metadata": {},
   "source": [
    "### Journal mentionnant le plus de médicament"
   ]
  },
  {
   "cell_type": "code",
   "execution_count": 61,
   "id": "c3f97050-ccfc-45c0-86f8-edddf7707c90",
   "metadata": {},
   "outputs": [
    {
     "data": {
      "text/plain": [
       "The journal of maternal-fetal & neonatal medicine              2\n",
       "Journal of back and musculoskeletal rehabilitation             1\n",
       "Hôpitaux Universitaires de Genève                              1\n",
       "Journal of emergency nursing                                   2\n",
       "The Journal of pediatrics                                      1\n",
       "The journal of allergy and clinical immunology. In practice    1\n",
       "Psychopharmacology                                             2\n",
       "Journal of photochemistry and photobiology. B, Biology         1\n",
       "American journal of veterinary research                        1\n",
       "Journal of food protection                                     1\n",
       "dtype: int64"
      ]
     },
     "execution_count": 61,
     "metadata": {},
     "output_type": "execute_result"
    }
   ],
   "source": [
    "pd.read_json(\"drugs_map.json\").count(axis=1)"
   ]
  },
  {
   "cell_type": "code",
   "execution_count": 62,
   "id": "8a4e904b-7e58-4970-bf62-9083af963a3c",
   "metadata": {},
   "outputs": [
    {
     "data": {
      "text/html": [
       "<div>\n",
       "<style scoped>\n",
       "    .dataframe tbody tr th:only-of-type {\n",
       "        vertical-align: middle;\n",
       "    }\n",
       "\n",
       "    .dataframe tbody tr th {\n",
       "        vertical-align: top;\n",
       "    }\n",
       "\n",
       "    .dataframe thead th {\n",
       "        text-align: right;\n",
       "    }\n",
       "</style>\n",
       "<table border=\"1\" class=\"dataframe\">\n",
       "  <thead>\n",
       "    <tr style=\"text-align: right;\">\n",
       "      <th></th>\n",
       "      <th>atropine</th>\n",
       "      <th>betamethasone</th>\n",
       "      <th>diphenhydramine</th>\n",
       "      <th>epinephrine</th>\n",
       "      <th>ethanol</th>\n",
       "      <th>isoprenaline</th>\n",
       "      <th>tetracycline</th>\n",
       "    </tr>\n",
       "  </thead>\n",
       "  <tbody>\n",
       "    <tr>\n",
       "      <th>The journal of maternal-fetal &amp; neonatal medicine</th>\n",
       "      <td>{'2020-01-03': ['']}</td>\n",
       "      <td>{'2020-01-01': [10], '2020-01-03': ['']}</td>\n",
       "      <td>NaN</td>\n",
       "      <td>NaN</td>\n",
       "      <td>NaN</td>\n",
       "      <td>NaN</td>\n",
       "      <td>NaN</td>\n",
       "    </tr>\n",
       "    <tr>\n",
       "      <th>Journal of back and musculoskeletal rehabilitation</th>\n",
       "      <td>NaN</td>\n",
       "      <td>{'2020-01-01': ['11']}</td>\n",
       "      <td>NaN</td>\n",
       "      <td>NaN</td>\n",
       "      <td>NaN</td>\n",
       "      <td>NaN</td>\n",
       "      <td>NaN</td>\n",
       "    </tr>\n",
       "    <tr>\n",
       "      <th>Hôpitaux Universitaires de Genève</th>\n",
       "      <td>NaN</td>\n",
       "      <td>{'2020-01-01': ['NCT04153396']}</td>\n",
       "      <td>NaN</td>\n",
       "      <td>NaN</td>\n",
       "      <td>NaN</td>\n",
       "      <td>NaN</td>\n",
       "      <td>NaN</td>\n",
       "    </tr>\n",
       "    <tr>\n",
       "      <th>Journal of emergency nursing</th>\n",
       "      <td>NaN</td>\n",
       "      <td>NaN</td>\n",
       "      <td>{'2020-01-01': ['NCT01967433', 'NCT04189588', ...</td>\n",
       "      <td>{'2020-04-27': ['NCT04188184']}</td>\n",
       "      <td>NaN</td>\n",
       "      <td>NaN</td>\n",
       "      <td>NaN</td>\n",
       "    </tr>\n",
       "    <tr>\n",
       "      <th>The Journal of pediatrics</th>\n",
       "      <td>NaN</td>\n",
       "      <td>NaN</td>\n",
       "      <td>{'2019-02-01': [3]}</td>\n",
       "      <td>NaN</td>\n",
       "      <td>NaN</td>\n",
       "      <td>NaN</td>\n",
       "      <td>NaN</td>\n",
       "    </tr>\n",
       "    <tr>\n",
       "      <th>The journal of allergy and clinical immunology. In practice</th>\n",
       "      <td>NaN</td>\n",
       "      <td>NaN</td>\n",
       "      <td>NaN</td>\n",
       "      <td>{'2020-01-03': [8], '2020-01-02': [7]}</td>\n",
       "      <td>NaN</td>\n",
       "      <td>NaN</td>\n",
       "      <td>NaN</td>\n",
       "    </tr>\n",
       "    <tr>\n",
       "      <th>Psychopharmacology</th>\n",
       "      <td>NaN</td>\n",
       "      <td>NaN</td>\n",
       "      <td>NaN</td>\n",
       "      <td>NaN</td>\n",
       "      <td>{'2020-01-01': [6]}</td>\n",
       "      <td>NaN</td>\n",
       "      <td>{'2020-01-01': [6]}</td>\n",
       "    </tr>\n",
       "    <tr>\n",
       "      <th>Journal of photochemistry and photobiology. B, Biology</th>\n",
       "      <td>NaN</td>\n",
       "      <td>NaN</td>\n",
       "      <td>NaN</td>\n",
       "      <td>NaN</td>\n",
       "      <td>NaN</td>\n",
       "      <td>{'2020-01-01': [9]}</td>\n",
       "      <td>NaN</td>\n",
       "    </tr>\n",
       "    <tr>\n",
       "      <th>American journal of veterinary research</th>\n",
       "      <td>NaN</td>\n",
       "      <td>NaN</td>\n",
       "      <td>NaN</td>\n",
       "      <td>NaN</td>\n",
       "      <td>NaN</td>\n",
       "      <td>NaN</td>\n",
       "      <td>{'2020-02-01': [5]}</td>\n",
       "    </tr>\n",
       "    <tr>\n",
       "      <th>Journal of food protection</th>\n",
       "      <td>NaN</td>\n",
       "      <td>NaN</td>\n",
       "      <td>NaN</td>\n",
       "      <td>NaN</td>\n",
       "      <td>NaN</td>\n",
       "      <td>NaN</td>\n",
       "      <td>{'2020-01-01': [4]}</td>\n",
       "    </tr>\n",
       "  </tbody>\n",
       "</table>\n",
       "</div>"
      ],
      "text/plain": [
       "                                                                atropine  \\\n",
       "The journal of maternal-fetal & neonatal medicine   {'2020-01-03': ['']}   \n",
       "Journal of back and musculoskeletal rehabilitation                   NaN   \n",
       "Hôpitaux Universitaires de Genève                                    NaN   \n",
       "Journal of emergency nursing                                         NaN   \n",
       "The Journal of pediatrics                                            NaN   \n",
       "The journal of allergy and clinical immunology....                   NaN   \n",
       "Psychopharmacology                                                   NaN   \n",
       "Journal of photochemistry and photobiology. B, ...                   NaN   \n",
       "American journal of veterinary research                              NaN   \n",
       "Journal of food protection                                           NaN   \n",
       "\n",
       "                                                                               betamethasone  \\\n",
       "The journal of maternal-fetal & neonatal medicine   {'2020-01-01': [10], '2020-01-03': ['']}   \n",
       "Journal of back and musculoskeletal rehabilitation                    {'2020-01-01': ['11']}   \n",
       "Hôpitaux Universitaires de Genève                            {'2020-01-01': ['NCT04153396']}   \n",
       "Journal of emergency nursing                                                             NaN   \n",
       "The Journal of pediatrics                                                                NaN   \n",
       "The journal of allergy and clinical immunology....                                       NaN   \n",
       "Psychopharmacology                                                                       NaN   \n",
       "Journal of photochemistry and photobiology. B, ...                                       NaN   \n",
       "American journal of veterinary research                                                  NaN   \n",
       "Journal of food protection                                                               NaN   \n",
       "\n",
       "                                                                                      diphenhydramine  \\\n",
       "The journal of maternal-fetal & neonatal medicine                                                 NaN   \n",
       "Journal of back and musculoskeletal rehabilitation                                                NaN   \n",
       "Hôpitaux Universitaires de Genève                                                                 NaN   \n",
       "Journal of emergency nursing                        {'2020-01-01': ['NCT01967433', 'NCT04189588', ...   \n",
       "The Journal of pediatrics                                                         {'2019-02-01': [3]}   \n",
       "The journal of allergy and clinical immunology....                                                NaN   \n",
       "Psychopharmacology                                                                                NaN   \n",
       "Journal of photochemistry and photobiology. B, ...                                                NaN   \n",
       "American journal of veterinary research                                                           NaN   \n",
       "Journal of food protection                                                                        NaN   \n",
       "\n",
       "                                                                               epinephrine  \\\n",
       "The journal of maternal-fetal & neonatal medicine                                      NaN   \n",
       "Journal of back and musculoskeletal rehabilitation                                     NaN   \n",
       "Hôpitaux Universitaires de Genève                                                      NaN   \n",
       "Journal of emergency nursing                               {'2020-04-27': ['NCT04188184']}   \n",
       "The Journal of pediatrics                                                              NaN   \n",
       "The journal of allergy and clinical immunology....  {'2020-01-03': [8], '2020-01-02': [7]}   \n",
       "Psychopharmacology                                                                     NaN   \n",
       "Journal of photochemistry and photobiology. B, ...                                     NaN   \n",
       "American journal of veterinary research                                                NaN   \n",
       "Journal of food protection                                                             NaN   \n",
       "\n",
       "                                                                ethanol  \\\n",
       "The journal of maternal-fetal & neonatal medicine                   NaN   \n",
       "Journal of back and musculoskeletal rehabilitation                  NaN   \n",
       "Hôpitaux Universitaires de Genève                                   NaN   \n",
       "Journal of emergency nursing                                        NaN   \n",
       "The Journal of pediatrics                                           NaN   \n",
       "The journal of allergy and clinical immunology....                  NaN   \n",
       "Psychopharmacology                                  {'2020-01-01': [6]}   \n",
       "Journal of photochemistry and photobiology. B, ...                  NaN   \n",
       "American journal of veterinary research                             NaN   \n",
       "Journal of food protection                                          NaN   \n",
       "\n",
       "                                                           isoprenaline  \\\n",
       "The journal of maternal-fetal & neonatal medicine                   NaN   \n",
       "Journal of back and musculoskeletal rehabilitation                  NaN   \n",
       "Hôpitaux Universitaires de Genève                                   NaN   \n",
       "Journal of emergency nursing                                        NaN   \n",
       "The Journal of pediatrics                                           NaN   \n",
       "The journal of allergy and clinical immunology....                  NaN   \n",
       "Psychopharmacology                                                  NaN   \n",
       "Journal of photochemistry and photobiology. B, ...  {'2020-01-01': [9]}   \n",
       "American journal of veterinary research                             NaN   \n",
       "Journal of food protection                                          NaN   \n",
       "\n",
       "                                                           tetracycline  \n",
       "The journal of maternal-fetal & neonatal medicine                   NaN  \n",
       "Journal of back and musculoskeletal rehabilitation                  NaN  \n",
       "Hôpitaux Universitaires de Genève                                   NaN  \n",
       "Journal of emergency nursing                                        NaN  \n",
       "The Journal of pediatrics                                           NaN  \n",
       "The journal of allergy and clinical immunology....                  NaN  \n",
       "Psychopharmacology                                  {'2020-01-01': [6]}  \n",
       "Journal of photochemistry and photobiology. B, ...                  NaN  \n",
       "American journal of veterinary research             {'2020-02-01': [5]}  \n",
       "Journal of food protection                          {'2020-01-01': [4]}  "
      ]
     },
     "execution_count": 62,
     "metadata": {},
     "output_type": "execute_result"
    }
   ],
   "source": [
    "pd.read_json(\"drugs_map.json\")"
   ]
  },
  {
   "cell_type": "code",
   "execution_count": 63,
   "id": "9410d217-ff69-4878-bbe7-474f92856dad",
   "metadata": {},
   "outputs": [
    {
     "data": {
      "text/plain": [
       "atropine           1\n",
       "betamethasone      3\n",
       "diphenhydramine    2\n",
       "epinephrine        2\n",
       "ethanol            1\n",
       "isoprenaline       1\n",
       "tetracycline       3\n",
       "dtype: int64"
      ]
     },
     "execution_count": 63,
     "metadata": {},
     "output_type": "execute_result"
    }
   ],
   "source": [
    "pd.read_json(\"drugs_map.json\").count(axis=0)"
   ]
  },
  {
   "cell_type": "code",
   "execution_count": null,
   "id": "0c7a8d9b-54fb-4247-a728-299eb8ce2eaa",
   "metadata": {},
   "outputs": [],
   "source": []
  }
 ],
 "metadata": {
  "kernelspec": {
   "display_name": "Python 3 (ipykernel)",
   "language": "python",
   "name": "python3"
  },
  "language_info": {
   "codemirror_mode": {
    "name": "ipython",
    "version": 3
   },
   "file_extension": ".py",
   "mimetype": "text/x-python",
   "name": "python",
   "nbconvert_exporter": "python",
   "pygments_lexer": "ipython3",
   "version": "3.7.13"
  }
 },
 "nbformat": 4,
 "nbformat_minor": 5
}
